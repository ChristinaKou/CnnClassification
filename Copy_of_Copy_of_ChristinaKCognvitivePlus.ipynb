{
  "nbformat": 4,
  "nbformat_minor": 0,
  "metadata": {
    "colab": {
      "name": "Copy of Copy of ChristinaKCognvitivePlus",
      "provenance": [],
      "collapsed_sections": [],
      "toc_visible": true,
      "authorship_tag": "ABX9TyOL+h+VVD8dfOcwPl+2YK/A",
      "include_colab_link": true
    },
    "kernelspec": {
      "name": "python3",
      "display_name": "Python 3"
    }
  },
  "cells": [
    {
      "cell_type": "markdown",
      "metadata": {
        "id": "view-in-github",
        "colab_type": "text"
      },
      "source": [
        "<a href=\"https://colab.research.google.com/github/ChristinaKou/Congitive-/blob/Classifier/Copy_of_Copy_of_ChristinaKCognvitivePlus.ipynb\" target=\"_parent\"><img src=\"https://colab.research.google.com/assets/colab-badge.svg\" alt=\"Open In Colab\"/></a>"
      ]
    },
    {
      "cell_type": "markdown",
      "metadata": {
        "id": "D6Gbwy7mpE1W",
        "colab_type": "text"
      },
      "source": [
        "# **Christina Koutsoumpa** -  Classification of tiny images CIFAR-100\n",
        "\n",
        "\n",
        "\n",
        "\n",
        "\n"
      ]
    },
    {
      "cell_type": "markdown",
      "metadata": {
        "id": "wZUz4kGwvakp",
        "colab_type": "text"
      },
      "source": [
        "***If you are going to use part of this notebook, please inform the author in advance and/or include the github link.***\n",
        "\n",
        "Report at the end of the notebook."
      ]
    },
    {
      "cell_type": "markdown",
      "metadata": {
        "id": "UtEXc68KrYsU",
        "colab_type": "text"
      },
      "source": [
        "# **1. Initialisation and function definitions**"
      ]
    },
    {
      "cell_type": "markdown",
      "metadata": {
        "id": "Cf-ocpwAhsE5",
        "colab_type": "text"
      },
      "source": [
        "Import modules"
      ]
    },
    {
      "cell_type": "code",
      "metadata": {
        "id": "mFA6b9U7iOrq",
        "colab_type": "code",
        "outputId": "24912829-d417-4e77-8824-cd20a42b52a0",
        "colab": {
          "base_uri": "https://localhost:8080/",
          "height": 97
        }
      },
      "source": [
        "import os\n",
        "import numpy as np\n",
        "import matplotlib.pylab as plt \n",
        "import tarfile, pickle\n",
        "from random import randrange\n",
        "\n",
        "import keras\n",
        "from keras.models import Sequential\n",
        "from keras.layers import Conv2D, MaxPooling2D, Flatten, Dense\n",
        "from keras.optimizers import *\n",
        "from keras.utils import plot_model\n",
        "# run, upgrade tensorflow and rerun\n"
      ],
      "execution_count": 1,
      "outputs": [
        {
          "output_type": "stream",
          "text": [
            "Using TensorFlow backend.\n"
          ],
          "name": "stderr"
        },
        {
          "output_type": "display_data",
          "data": {
            "text/html": [
              "<p style=\"color: red;\">\n",
              "The default version of TensorFlow in Colab will soon switch to TensorFlow 2.x.<br>\n",
              "We recommend you <a href=\"https://www.tensorflow.org/guide/migrate\" target=\"_blank\">upgrade</a> now \n",
              "or ensure your notebook will continue to use TensorFlow 1.x via the <code>%tensorflow_version 1.x</code> magic:\n",
              "<a href=\"https://colab.research.google.com/notebooks/tensorflow_version.ipynb\" target=\"_blank\">more info</a>.</p>\n"
            ],
            "text/plain": [
              "<IPython.core.display.HTML object>"
            ]
          },
          "metadata": {
            "tags": []
          }
        }
      ]
    },
    {
      "cell_type": "markdown",
      "metadata": {
        "id": "kLi3jxo8pzU1",
        "colab_type": "text"
      },
      "source": [
        "**Paths and initialisation**"
      ]
    },
    {
      "cell_type": "code",
      "metadata": {
        "colab_type": "code",
        "id": "mpvqWAghIrQl",
        "outputId": "99823d71-ab0a-4489-dec2-45336050733e",
        "colab": {
          "base_uri": "https://localhost:8080/",
          "height": 34
        }
      },
      "source": [
        "# Project directory\n",
        "workingDir = '/Cognitive'\n",
        "# Make a project folder if not existent\n",
        "if not os.path.exists(workingDir):\n",
        "    os.makedirs(workingDir)\n",
        "os.chdir(workingDir) # Cd to this foder \n",
        "print(\"The current workig directory is\",os.getcwd()[1:] )\n",
        "\n",
        "%matplotlib notebook"
      ],
      "execution_count": 2,
      "outputs": [
        {
          "output_type": "stream",
          "text": [
            "The current workig directory is Cognitive\n"
          ],
          "name": "stdout"
        }
      ]
    },
    {
      "cell_type": "markdown",
      "metadata": {
        "id": "UPDOYlnMrs0c",
        "colab_type": "text"
      },
      "source": [
        "Functions"
      ]
    },
    {
      "cell_type": "code",
      "metadata": {
        "id": "8-k2OSBDjHP4",
        "colab_type": "code",
        "colab": {}
      },
      "source": [
        "# List non hidden files in current folder\n",
        "def nonHiddenfiles():\n",
        "  fileList = [n_file for n_file in os.listdir() if not n_file.startswith('.')] \n",
        "  return fileList\n",
        "\n",
        "# Unpickle file\n",
        "def unpickle(file):\n",
        "  import pickle\n",
        "  with open(file, 'rb') as fo:\n",
        "    dict = pickle.load(fo, encoding='bytes')\n",
        "  return dict\n"
      ],
      "execution_count": 0,
      "outputs": []
    },
    {
      "cell_type": "markdown",
      "metadata": {
        "id": "747HpAqlgCuX",
        "colab_type": "text"
      },
      "source": [
        "# **2. Dataset loading, unpickling and exploring**\n",
        "\n"
      ]
    },
    {
      "cell_type": "markdown",
      "metadata": {
        "id": "hznt2MB-f0ag",
        "colab_type": "text"
      },
      "source": [
        "## 2.1 Download and decompress dataset"
      ]
    },
    {
      "cell_type": "code",
      "metadata": {
        "id": "J9rQQR8jf_ew",
        "colab_type": "code",
        "outputId": "b25dcc10-4edf-4fe2-d2ad-ed059f1a4ca5",
        "colab": {
          "base_uri": "https://localhost:8080/",
          "height": 34
        }
      },
      "source": [
        "# Download dataset if not already downloaded\n",
        "fileList = nonHiddenfiles()\n",
        "if len(fileList)==0: # Check for non hidden files\n",
        "  # Donwload \n",
        "  print(\"Downloading data ..\")\n",
        "  !wget -q --show-progress https://www.cs.toronto.edu/%7Ekriz/cifar-100-python.tar.gz\n",
        "  fileList = nonHiddenfiles()\n",
        "  print(\"Dataset\", fileList[-1],  \"downloaded\" )\n",
        "else:\n",
        "  # Do not download\n",
        "  print(\"Dataset\", fileList[-1], \"already downloaded\" )\n",
        "  fileList = nonHiddenfiles()"
      ],
      "execution_count": 4,
      "outputs": [
        {
          "output_type": "stream",
          "text": [
            "Dataset cifar-100-python already downloaded\n"
          ],
          "name": "stdout"
        }
      ]
    },
    {
      "cell_type": "code",
      "metadata": {
        "id": "J1w3VR6wlt_R",
        "colab_type": "code",
        "outputId": "7dba803f-795d-4be3-9a32-c56bd6f8e86a",
        "colab": {
          "base_uri": "https://localhost:8080/",
          "height": 34
        }
      },
      "source": [
        "# Decompress dataset\n",
        "fileList = nonHiddenfiles()\n",
        "datasetFile = fileList[-1]\n",
        "if datasetFile.endswith(\"tar.gz\"):\n",
        "  print(\"Decompressing dataset..\")    \n",
        "  tar = tarfile.open(datasetFile, \"r:gz\")    \n",
        "  tar.extractall()\n",
        "  tar.close()\n",
        "  print(\"..into\", tar.name)\n",
        "  os.remove(tar.name) # delete compressed file\n",
        "  fileList.remove(datasetFile)\n",
        "else:\n",
        "  print(\"Dataset uncompressed\") \n"
      ],
      "execution_count": 5,
      "outputs": [
        {
          "output_type": "stream",
          "text": [
            "Dataset uncompressed\n"
          ],
          "name": "stdout"
        }
      ]
    },
    {
      "cell_type": "markdown",
      "metadata": {
        "id": "wm9BUdfvudW0",
        "colab_type": "text"
      },
      "source": [
        "## 2.2 Dataset summary"
      ]
    },
    {
      "cell_type": "code",
      "metadata": {
        "id": "eqkU35pDy83V",
        "colab_type": "code",
        "outputId": "a9a9edef-fab9-4ea7-b642-bd62b298872d",
        "colab": {
          "base_uri": "https://localhost:8080/",
          "height": 85
        }
      },
      "source": [
        "# Look into the folder\n",
        "os.chdir(nonHiddenfiles()[-1]) \n",
        "# List non hidden content\n",
        "contentList = nonHiddenfiles()\n",
        "print(*contentList, sep = \"\\n\")\n",
        "#%cd .."
      ],
      "execution_count": 6,
      "outputs": [
        {
          "output_type": "stream",
          "text": [
            "meta\n",
            "train\n",
            "file.txt~\n",
            "test\n"
          ],
          "name": "stdout"
        }
      ]
    },
    {
      "cell_type": "code",
      "metadata": {
        "id": "nxz2plQxzpkQ",
        "colab_type": "code",
        "outputId": "9ad7323a-f1a0-4fa4-f059-077c166a1139",
        "cellView": "code",
        "colab": {
          "base_uri": "https://localhost:8080/",
          "height": 51
        }
      },
      "source": [
        "# Unpickle data \n",
        "test = unpickle('test')\n",
        "meta = unpickle('meta')\n",
        "train = unpickle('train')\n",
        "print(type(test), type(meta), type(train))\n",
        "%cd .."
      ],
      "execution_count": 7,
      "outputs": [
        {
          "output_type": "stream",
          "text": [
            "<class 'dict'> <class 'dict'> <class 'dict'>\n",
            "/Cognitive\n"
          ],
          "name": "stdout"
        }
      ]
    },
    {
      "cell_type": "markdown",
      "metadata": {
        "id": "vhE3TZR4OjDc",
        "colab_type": "text"
      },
      "source": [
        "### Table"
      ]
    },
    {
      "cell_type": "code",
      "metadata": {
        "id": "m3J_gO9q5mb0",
        "colab_type": "code",
        "colab": {}
      },
      "source": [
        "print(\"\\tLABEL\",\"\\t\\t\\t\",\"LENGTH\\t\\t\", \"VALUE\")\n",
        "\n",
        "# expore meta dataset\n",
        "print(\"META\")\n",
        "for i in list(range(0,len(meta))):\n",
        "  print(list(meta.keys())[i],\"\\t\\t\",len(list(meta.values())[i]),\"\\t\\t\",list(meta.values())[i]), print('\\n')\n",
        "\n",
        "# expore train dataset\n",
        "print(\"TRAIN\")\n",
        "for i in list(range(0,len(train))):\n",
        "  print(list(train.keys())[i],\"      \\t\\t\",len(list(train.values())[i]),\"\\t\\t\",list(train.values())[i]), print('\\n')\n",
        "\n",
        "# expore test dataset\n",
        "print(\"TEST\")\n",
        "for i in list(range(0,len(test))):\n",
        "  print(list(test.keys())[i],\":          \\t\",len(list(test.values())[i]),\"\\t\\t\", list(test.values())[i]), print('\\n')\n"
      ],
      "execution_count": 0,
      "outputs": []
    },
    {
      "cell_type": "markdown",
      "metadata": {
        "id": "YufO35BGYhyT",
        "colab_type": "text"
      },
      "source": [
        "### Image examples"
      ]
    },
    {
      "cell_type": "code",
      "metadata": {
        "id": "OtCT5akMQ6fo",
        "colab_type": "code",
        "outputId": "a703dea5-8705-47b1-c374-49365270d428",
        "colab": {
          "base_uri": "https://localhost:8080/",
          "height": 281
        }
      },
      "source": [
        "# Show random image examples with their filename, coarse category and fine category\n",
        "%matplotlib inline\n",
        "trainImages = train[b'data'].reshape(50000,3,32,32).transpose(0,2,3,1);\n",
        "\n",
        "thisImage=randrange(len(train[b'filenames']));\n",
        "plt.imshow(trainImages[thisImage].squeeze());\n",
        "plt.title([train[b'filenames'][thisImage], meta[b'fine_label_names'][train[b'fine_labels'][thisImage]],meta[b'coarse_label_names'][train[b'coarse_labels'][thisImage]]] );\n"
      ],
      "execution_count": 9,
      "outputs": [
        {
          "output_type": "display_data",
          "data": {
            "image/png": "[encoded data removed]",
            "text/plain": [
              "<Figure size 432x288 with 1 Axes>"
            ]
          },
          "metadata": {
            "tags": []
          }
        }
      ]
    },
    {
      "cell_type": "markdown",
      "metadata": {
        "id": "n4LgclFStgZa",
        "colab_type": "text"
      },
      "source": [
        "# 3.NN classification\n",
        "\n"
      ]
    },
    {
      "cell_type": "markdown",
      "metadata": {
        "id": "2hCvowU3uL1Y",
        "colab_type": "text"
      },
      "source": [
        "Initialisation"
      ]
    },
    {
      "cell_type": "code",
      "metadata": {
        "id": "ox-kPbwNhYxc",
        "colab_type": "code",
        "colab": {}
      },
      "source": [
        "# Clear any logs from previous runs\n",
        "!rm -rf ./logs/\n",
        "\n",
        "# Make results folder\n",
        "if not os.path.exists('Results'):\n",
        "    os.makedirs('Results')"
      ],
      "execution_count": 0,
      "outputs": []
    },
    {
      "cell_type": "markdown",
      "metadata": {
        "id": "RP4CN59c18Ik",
        "colab_type": "text"
      },
      "source": [
        "## 3.1. Data pre-processing"
      ]
    },
    {
      "cell_type": "code",
      "metadata": {
        "id": "mSSt_1wBFQ1Q",
        "colab_type": "code",
        "outputId": "70293227-7a0d-4c47-c830-77f2f7ddbe43",
        "colab": {
          "base_uri": "https://localhost:8080/",
          "height": 34
        }
      },
      "source": [
        "# type and shape of image data, min and max value\n",
        "print(type(train[b'data']),train[b'data'].shape, [train[b'data'].min(),train[b'data'].max()])\n"
      ],
      "execution_count": 11,
      "outputs": [
        {
          "output_type": "stream",
          "text": [
            "<class 'numpy.ndarray'> (50000, 3072) [0, 255]\n"
          ],
          "name": "stdout"
        }
      ]
    },
    {
      "cell_type": "code",
      "metadata": {
        "id": "zi2y69cWVifJ",
        "colab_type": "code",
        "outputId": "6034f614-abf6-4c3f-ded0-af04c189b12d",
        "colab": {
          "base_uri": "https://localhost:8080/",
          "height": 51
        }
      },
      "source": [
        "# Number of classses\n",
        "nClasses = 100\n",
        "\n",
        "# get and reshape dataset\n",
        "trainImages = train[b'data'].reshape(50000,3,32,32).transpose(0,2,3,1).astype('float32');\n",
        "testImages = test[b'data'].reshape(10000,3,32,32).transpose(0,2,3,1).astype('float32');\n",
        "print(trainImages.shape,  testImages.shape)\n",
        "\n",
        "# get labels and create output binary class matrices\n",
        "trainLabels = train[b'fine_labels']\n",
        "testLabels = test[b'fine_labels']\n",
        "print(len(trainLabels))\n",
        "# convert class label vectors to binary class matrices.\n",
        "trainLabels = keras.utils.to_categorical(trainLabels, nClasses)\n",
        "testLabels = keras.utils.to_categorical(testLabels, nClasses)\n"
      ],
      "execution_count": 12,
      "outputs": [
        {
          "output_type": "stream",
          "text": [
            "(50000, 32, 32, 3) (10000, 32, 32, 3)\n",
            "50000\n"
          ],
          "name": "stdout"
        }
      ]
    },
    {
      "cell_type": "code",
      "metadata": {
        "id": "I9Sqa3RiYsjz",
        "colab_type": "code",
        "outputId": "1b61d3af-faf1-44c1-fc53-6e9ee46bc230",
        "colab": {
          "base_uri": "https://localhost:8080/",
          "height": 34
        }
      },
      "source": [
        "# Normalisation\n",
        "trainImages = (trainImages - trainImages.min()) / (trainImages.max() - trainImages.min())\n",
        "print('Values range :', [trainImages.min(),trainImages.max()], ', labels range',[trainLabels.min(),trainLabels.max()])\n"
      ],
      "execution_count": 13,
      "outputs": [
        {
          "output_type": "stream",
          "text": [
            "Values range : [0.0, 1.0] , labels range [0.0, 1.0]\n"
          ],
          "name": "stdout"
        }
      ]
    },
    {
      "cell_type": "markdown",
      "metadata": {
        "id": "XQxQ9-e2Zf09",
        "colab_type": "text"
      },
      "source": [
        "## 3.2. Model"
      ]
    },
    {
      "cell_type": "markdown",
      "metadata": {
        "id": "6fE4u0Ka1CIv",
        "colab_type": "text"
      },
      "source": [
        "100-class classifier : \n",
        "CNN with 3 convolutional-maxpooling layers and 2 fully connected layers\n"
      ]
    },
    {
      "cell_type": "code",
      "metadata": {
        "id": "vtaRyp1Ja0H3",
        "colab_type": "code",
        "outputId": "201d3d86-ae9a-474e-c891-9497ea4a174d",
        "colab": {
          "base_uri": "https://localhost:8080/",
          "height": 700
        }
      },
      "source": [
        "# Build the CNN\n",
        "\n",
        "classifier = Sequential()\n",
        "# First convolution-maxpooling\n",
        "#classifier.add(Convolution2D(32, (3, 3), input_shape = (32, 32, 3), activation = 'relu', padding='same'))\n",
        "classifier.add(Conv2D(32, (3, 3), input_shape = (32, 32, 3), activation = 'relu', padding='same'))\n",
        "classifier.add(MaxPooling2D(pool_size = (2, 2), strides=(2,2)))\n",
        "\n",
        "# Second convolution-maxpooling\n",
        "classifier.add(Conv2D(64, (3, 3), activation = 'relu', padding='same'))\n",
        "classifier.add(MaxPooling2D(pool_size = (2, 2), strides=2, padding='valid'))\n",
        "\n",
        "# Third convolution-maxpooling\n",
        "classifier.add(Conv2D(32, (3, 3), activation = 'relu', padding='same'))\n",
        "classifier.add(MaxPooling2D(pool_size = (2, 2), strides=2, padding='valid'))\n",
        "\n",
        "# Fourth convolution-maxpooling\n",
        "#classifier.add(Conv2D(256, (3, 3), activation = 'relu', padding='same'))\n",
        "#classifier.add(MaxPooling2D(pool_size = (2, 2), strides=2, padding='valid'))\n",
        "\n",
        "# Flattening\n",
        "classifier.add(Flatten())\n",
        "\n",
        "# Full connection\n",
        "classifier.add(Dense(256, activation = 'relu')) # sigmoid softmax\n",
        "classifier.add(Dense(output_dim = nClasses, activation = 'softmax')) # sigmoid softmax\n",
        "\n",
        "# Compiling the CNN\n",
        "classifier.compile(optimizer = Adam(lr=0.001), loss = 'categorical_crossentropy', metrics = ['accuracy'])\n",
        "\n",
        "# Print topology\n",
        "classifier.summary(80)\n"
      ],
      "execution_count": 14,
      "outputs": [
        {
          "output_type": "stream",
          "text": [
            "WARNING:tensorflow:From /usr/local/lib/python3.6/dist-packages/keras/backend/tensorflow_backend.py:66: The name tf.get_default_graph is deprecated. Please use tf.compat.v1.get_default_graph instead.\n",
            "\n",
            "WARNING:tensorflow:From /usr/local/lib/python3.6/dist-packages/keras/backend/tensorflow_backend.py:541: The name tf.placeholder is deprecated. Please use tf.compat.v1.placeholder instead.\n",
            "\n",
            "WARNING:tensorflow:From /usr/local/lib/python3.6/dist-packages/keras/backend/tensorflow_backend.py:4432: The name tf.random_uniform is deprecated. Please use tf.random.uniform instead.\n",
            "\n",
            "WARNING:tensorflow:From /usr/local/lib/python3.6/dist-packages/keras/backend/tensorflow_backend.py:4267: The name tf.nn.max_pool is deprecated. Please use tf.nn.max_pool2d instead.\n",
            "\n",
            "WARNING:tensorflow:From /usr/local/lib/python3.6/dist-packages/keras/optimizers.py:793: The name tf.train.Optimizer is deprecated. Please use tf.compat.v1.train.Optimizer instead.\n",
            "\n",
            "WARNING:tensorflow:From /usr/local/lib/python3.6/dist-packages/keras/backend/tensorflow_backend.py:3576: The name tf.log is deprecated. Please use tf.math.log instead.\n",
            "\n",
            "Model: \"sequential_1\"\n",
            "________________________________________________________________________________\n",
            "Layer (type)                        Output Shape                    Param #     \n",
            "================================================================================\n",
            "conv2d_1 (Conv2D)                   (None, 32, 32, 32)              896         \n",
            "________________________________________________________________________________\n",
            "max_pooling2d_1 (MaxPooling2D)      (None, 16, 16, 32)              0           \n",
            "________________________________________________________________________________\n",
            "conv2d_2 (Conv2D)                   (None, 16, 16, 64)              18496       \n",
            "________________________________________________________________________________\n",
            "max_pooling2d_2 (MaxPooling2D)      (None, 8, 8, 64)                0           \n",
            "________________________________________________________________________________\n",
            "conv2d_3 (Conv2D)                   (None, 8, 8, 32)                18464       \n",
            "________________________________________________________________________________\n",
            "max_pooling2d_3 (MaxPooling2D)      (None, 4, 4, 32)                0           \n",
            "________________________________________________________________________________\n",
            "flatten_1 (Flatten)                 (None, 512)                     0           \n",
            "________________________________________________________________________________\n",
            "dense_1 (Dense)                     (None, 256)                     131328      \n",
            "________________________________________________________________________________\n",
            "dense_2 (Dense)                     (None, 100)                     25700       \n",
            "================================================================================\n",
            "Total params: 194,884\n",
            "Trainable params: 194,884\n",
            "Non-trainable params: 0\n",
            "________________________________________________________________________________\n"
          ],
          "name": "stdout"
        },
        {
          "output_type": "stream",
          "text": [
            "/usr/local/lib/python3.6/dist-packages/ipykernel_launcher.py:25: UserWarning: Update your `Dense` call to the Keras 2 API: `Dense(activation=\"softmax\", units=100)`\n"
          ],
          "name": "stderr"
        }
      ]
    },
    {
      "cell_type": "code",
      "metadata": {
        "id": "m3eUzN-hhl5g",
        "colab_type": "code",
        "colab": {
          "base_uri": "https://localhost:8080/",
          "height": 953
        },
        "outputId": "d1f07747-97b4-4b0a-aafe-0702e8266d2f"
      },
      "source": [
        "# Draw topology\n",
        "\n",
        "plot_model(classifier, to_file='Results/topology.png')"
      ],
      "execution_count": 15,
      "outputs": [
        {
          "output_type": "execute_result",
          "data": {
            "image/png": "[encoded data removed]",
            "text/plain": [
              "<IPython.core.display.Image object>"
            ]
          },
          "metadata": {
            "tags": []
          },
          "execution_count": 15
        }
      ]
    },
    {
      "cell_type": "markdown",
      "metadata": {
        "id": "QtWo4UGHFbzA",
        "colab_type": "text"
      },
      "source": [
        "## 3.2 Training"
      ]
    },
    {
      "cell_type": "markdown",
      "metadata": {
        "id": "TGY_TLSsNiJJ",
        "colab_type": "text"
      },
      "source": [
        "* Activation function in hidden layers : ReLU\n",
        "* Loss function : categorical cross entropy\n",
        "* Optimiser: Adam with learning rate 0.001 and batch size ={{batchSize}}\n",
        "* Accuracy xx achieved after 150 epochs "
      ]
    },
    {
      "cell_type": "code",
      "metadata": {
        "id": "EF08dkvrFXfZ",
        "colab_type": "code",
        "outputId": "664bb0da-194a-43b1-dfef-5268549f58b4",
        "colab": {
          "base_uri": "https://localhost:8080/",
          "height": 530
        }
      },
      "source": [
        "# Hyperparameters\n",
        "batchSize = 20\n",
        "epochsN =  200 #150\n",
        "split = 0.2\n",
        "\n",
        "# Training\n",
        "history = classifier.fit(trainImages, trainLabels, validation_split = split, batch_size = batchSize, epochs = epochsN, shuffle = True, verbose=2 )\n",
        "\n",
        "# Save model\n",
        "classifier.save('Results/classifier')\n"
      ],
      "execution_count": 0,
      "outputs": [
        {
          "output_type": "stream",
          "text": [
            "WARNING:tensorflow:From /usr/local/lib/python3.6/dist-packages/tensorflow_core/python/ops/math_grad.py:1424: where (from tensorflow.python.ops.array_ops) is deprecated and will be removed in a future version.\n",
            "Instructions for updating:\n",
            "Use tf.where in 2.0, which has the same broadcast rule as np.where\n",
            "WARNING:tensorflow:From /usr/local/lib/python3.6/dist-packages/keras/backend/tensorflow_backend.py:1033: The name tf.assign_add is deprecated. Please use tf.compat.v1.assign_add instead.\n",
            "\n",
            "WARNING:tensorflow:From /usr/local/lib/python3.6/dist-packages/keras/backend/tensorflow_backend.py:1020: The name tf.assign is deprecated. Please use tf.compat.v1.assign instead.\n",
            "\n",
            "WARNING:tensorflow:From /usr/local/lib/python3.6/dist-packages/keras/backend/tensorflow_backend.py:3005: The name tf.Session is deprecated. Please use tf.compat.v1.Session instead.\n",
            "\n",
            "Train on 40000 samples, validate on 10000 samples\n",
            "Epoch 1/200\n",
            "WARNING:tensorflow:From /usr/local/lib/python3.6/dist-packages/keras/backend/tensorflow_backend.py:190: The name tf.get_default_session is deprecated. Please use tf.compat.v1.get_default_session instead.\n",
            "\n",
            "WARNING:tensorflow:From /usr/local/lib/python3.6/dist-packages/keras/backend/tensorflow_backend.py:197: The name tf.ConfigProto is deprecated. Please use tf.compat.v1.ConfigProto instead.\n",
            "\n",
            "WARNING:tensorflow:From /usr/local/lib/python3.6/dist-packages/keras/backend/tensorflow_backend.py:207: The name tf.global_variables is deprecated. Please use tf.compat.v1.global_variables instead.\n",
            "\n",
            "WARNING:tensorflow:From /usr/local/lib/python3.6/dist-packages/keras/backend/tensorflow_backend.py:216: The name tf.is_variable_initialized is deprecated. Please use tf.compat.v1.is_variable_initialized instead.\n",
            "\n",
            "WARNING:tensorflow:From /usr/local/lib/python3.6/dist-packages/keras/backend/tensorflow_backend.py:223: The name tf.variables_initializer is deprecated. Please use tf.compat.v1.variables_initializer instead.\n",
            "\n",
            " - 86s - loss: 3.7195 - acc: 0.1311 - val_loss: 3.2290 - val_acc: 0.2147\n",
            "Epoch 2/200\n",
            " - 88s - loss: 3.0156 - acc: 0.2550 - val_loss: 2.9263 - val_acc: 0.2688\n",
            "Epoch 3/200\n",
            " - 88s - loss: 2.6718 - acc: 0.3238 - val_loss: 2.7242 - val_acc: 0.3131\n",
            "Epoch 4/200\n",
            " - 89s - loss: 2.4251 - acc: 0.3743 - val_loss: 2.6352 - val_acc: 0.3362\n",
            "Epoch 5/200\n"
          ],
          "name": "stdout"
        }
      ]
    },
    {
      "cell_type": "markdown",
      "metadata": {
        "id": "Tn0ckip-oPPk",
        "colab_type": "text"
      },
      "source": [
        "# 4.Evaluation"
      ]
    },
    {
      "cell_type": "markdown",
      "metadata": {
        "id": "E_U-n2M6fCfo",
        "colab_type": "text"
      },
      "source": [
        "## 4.1. Training performance"
      ]
    },
    {
      "cell_type": "code",
      "metadata": {
        "id": "j7r5vcP2oKi5",
        "colab_type": "code",
        "colab": {}
      },
      "source": [
        "# Print\n",
        "print('After {} epochs \\nTrain loss:\\t\\t{}\\nTrain accuracy:\\t\\t{}\\nValidation loss:\\t{}\\nValidation accuracy:\\t{}'.format(epochsN, history.history['loss'][-1], history.history['acc'][-1],history.history['val_loss'][-1],history.history['val_acc'][-1] ))\n",
        "\n",
        "# Plot the loss function and the evaluation metric over the course of training\n",
        "fig, ax = plt.subplots(1, 1, figsize=(10, 5))\n",
        "ax.plot(np.array(history.history['acc']), color='blue', label='training accuracy')\n",
        "ax.plot(np.array(history.history['loss']), color='red', label='training loss')\n",
        "ax.set_title('optimizer={}'.format('Adam'))\n",
        "ax.legend(loc='upper right')\n",
        "ax.minorticks_on(), ax.grid(which='both', linestyle='-.', linewidth=1)\n",
        "plt.show()\n",
        "\n",
        "# Save figure\n",
        "fig.savefig('Results/plot.png')\n"
      ],
      "execution_count": 0,
      "outputs": []
    },
    {
      "cell_type": "markdown",
      "metadata": {
        "id": "2xTH8Ci2fQI4",
        "colab_type": "text"
      },
      "source": [
        "## 4.2.Testing performance"
      ]
    },
    {
      "cell_type": "code",
      "metadata": {
        "id": "-K28GpneZB9S",
        "colab_type": "code",
        "colab": {}
      },
      "source": [
        "# Evaluate the training and testing performance of your model \n",
        "# Note: you should check both the loss function and your evaluation metric\n",
        "score = classifier.evaluate(trainImages, trainLabels, verbose=2)\n",
        "print('Train loss:', score[0])\n",
        "print('Train accuracy:', score[1], '\\n\\n')\n",
        "\n",
        "score = classifier.evaluate(testImages, testLabels, verbose=2)\n",
        "print('Test loss:', score[0])\n",
        "print('Test accuracy:', score[1])"
      ],
      "execution_count": 0,
      "outputs": []
    },
    {
      "cell_type": "code",
      "metadata": {
        "id": "xOcWwxwaitn4",
        "colab_type": "code",
        "colab": {}
      },
      "source": [
        "%load_ext tensorboard\n",
        "%tensorboard --logdir logs"
      ],
      "execution_count": 0,
      "outputs": []
    },
    {
      "cell_type": "markdown",
      "metadata": {
        "id": "L4eZ9zuJZfe9",
        "colab_type": "text"
      },
      "source": [
        "# 5. Pickling and saving"
      ]
    },
    {
      "cell_type": "code",
      "metadata": {
        "id": "rSKlcaK5Zk8k",
        "colab_type": "code",
        "colab": {}
      },
      "source": [
        "# Pickle training and save \n",
        "with open(\"Results/training\", 'wb') as file_pi:\n",
        "  pickle.dump(history.history, file_pi)"
      ],
      "execution_count": 0,
      "outputs": []
    },
    {
      "cell_type": "code",
      "metadata": {
        "id": "bb8C94fGd5hq",
        "colab_type": "code",
        "colab": {}
      },
      "source": [
        "from keras.preprocessing.image import ImageDataGenerator\n",
        "\n",
        "train_datagen = ImageDataGenerator(rescale = 1./255,\n",
        "                                   shear_range = 0.2,\n",
        "                                   zoom_range = 0.2,\n",
        "                                   horizontal_flip = True,\n",
        "                                   width_shift_range=0.2,\n",
        "                                   height_shift_range=0.2,\n",
        "                                   rotation_range=15,\n",
        "                                   vertical_flip=True,\n",
        "                                   fill_mode='reflect',\n",
        "                                   data_format='channels_last',\n",
        "                                   brightness_range=[0.5, 1.5],\n",
        "                                   featurewise_center=True,\n",
        "                                   featurewise_std_normalization=True)\n",
        "\n",
        "\n"
      ],
      "execution_count": 0,
      "outputs": []
    },
    {
      "cell_type": "code",
      "metadata": {
        "id": "kYkkj_T9d9vS",
        "colab_type": "code",
        "colab": {}
      },
      "source": [
        "test_datagen = ImageDataGenerator(rescale = 1./255)\n",
        "\n",
        "training_set = train_datagen.flow_from_directory('dataset/train',\n",
        "                                                 target_size = (64, 64),\n",
        "                                                 batch_size = 32,\n",
        "                                                 class_mode = 'binary')\n",
        "\n",
        "test_set = test_datagen.flow_from_directory('dataset/validation',\n",
        "                                            target_size = (64, 64),\n",
        "                                            batch_size = 32,\n",
        "                                            class_mode = 'binary')"
      ],
      "execution_count": 0,
      "outputs": []
    },
    {
      "cell_type": "markdown",
      "metadata": {
        "id": "Qj6r4X7nZK8R",
        "colab_type": "text"
      },
      "source": [
        "Activation function ReLU, leaky ReLU, Swish\n",
        "\n",
        "Multi-Class Cross-Entropy Loss, Sparse Multiclass Cross-Entropy Loss, Kullback Leibler Divergence Loss\n",
        "\n",
        "adam, sgd\n",
        "\n"
      ]
    },
    {
      "cell_type": "markdown",
      "metadata": {
        "id": "wSfOu7l-f8G9",
        "colab_type": "text"
      },
      "source": [
        "# Report\n",
        "The current notebook suggests a CNN classifier for the CIFAR-100 dataset. The dataset comprises of 50000+10000 tiny images belonging to 100 classes which in turn are evenly categoried into to 20 super-classes.\n",
        "\n",
        "The classification problem of this dataset is challenging because the resolution of the images is rather low and the number of categories is large for the given number of labeled images which makes both the extraction and categorisation of the features challenging.\n",
        "\n",
        "Here I suggest a CNN comprising of 3 convolutional-maxpooling, 1 flattening and 2 fully connected layers including the output layer of 100 neurons which achieves image classificaiton into the 100 classes, thus also classification into the 20 superclasses. Direct classification into the 20 superclasses was even more challenging (performed several trials on this) due to the high intra-superclass variability of images. \n",
        "\n",
        "The proposed CNN achieves accuracy of xxx and loss function value of xx on the training dataset. However, the corresponding values on the testing dataset are significantly lower which indicats possible overfitting. Tests with more layers resulted in divergence of the optimisation (training) even when different optimisers were tried (adam, sgd, mse). \n",
        "\n",
        "This CNN classifier can be used as a baseline for comparison with other NN.\n",
        "To avoid overfitting, I would next try a ResNet achitecture which allows the use of many layers controling at the same time the aggregation of errors that account for the gradient vanishing[3]. A list of suitable methods built around Resnet and other architectures are listed in [4]\n",
        "\n",
        "\n",
        "\n",
        "\n",
        "\n",
        "\n",
        "\n",
        "\n"
      ]
    },
    {
      "cell_type": "markdown",
      "metadata": {
        "id": "ktQinrikuob5",
        "colab_type": "text"
      },
      "source": [
        "# Citations\n",
        "1. https://www.cs.toronto.edu/~kriz/cifar.html (dataset)\n",
        "2. https://www.tensorflow.org/tensorboard/graphs \n",
        "3. https://towardsdatascience.com/an-overview-of-resnet-and-its-variants-5281e2f56035\n",
        "4. https://paperswithcode.com/sota/image-classification-on-cifar-100"
      ]
    }
  ]
}