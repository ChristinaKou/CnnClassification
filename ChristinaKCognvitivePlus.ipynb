{
  "nbformat": 4,
  "nbformat_minor": 0,
  "metadata": {
    "colab": {
      "name": "ChristinaKCognvitivePlus",
      "provenance": [],
      "collapsed_sections": [],
      "toc_visible": true,
      "authorship_tag": "ABX9TyMj4OkyabdvFE4CJEtdHTAy",
      "include_colab_link": true
    },
    "kernelspec": {
      "name": "python3",
      "display_name": "Python 3"
    }
  },
  "cells": [
    {
      "cell_type": "markdown",
      "metadata": {
        "id": "view-in-github",
        "colab_type": "text"
      },
      "source": [
        "<a href=\"https://colab.research.google.com/github/ChristinaKou/CnnClassification/blob/Classifier/ChristinaKCognvitivePlus.ipynb\" target=\"_parent\"><img src=\"https://colab.research.google.com/assets/colab-badge.svg\" alt=\"Open In Colab\"/></a>"
      ]
    },
    {
      "cell_type": "markdown",
      "metadata": {
        "id": "D6Gbwy7mpE1W",
        "colab_type": "text"
      },
      "source": [
        "# **Christina Koutsoumpa** -  Classification of tiny images CIFAR-100\n",
        "\n",
        "\n",
        "\n",
        "\n",
        "\n"
      ]
    },
    {
      "cell_type": "markdown",
      "metadata": {
        "id": "wZUz4kGwvakp",
        "colab_type": "text"
      },
      "source": [
        "***If you are going to use part of this notebook, please inform the author in advance and/or include the github link.***\n",
        "\n",
        "Report at the end of the notebook."
      ]
    },
    {
      "cell_type": "markdown",
      "metadata": {
        "id": "UtEXc68KrYsU",
        "colab_type": "text"
      },
      "source": [
        "# **1. Initialisation and function definitions**"
      ]
    },
    {
      "cell_type": "markdown",
      "metadata": {
        "id": "Cf-ocpwAhsE5",
        "colab_type": "text"
      },
      "source": [
        "Import modules"
      ]
    },
    {
      "cell_type": "code",
      "metadata": {
        "id": "mFA6b9U7iOrq",
        "colab_type": "code",
        "colab": {}
      },
      "source": [
        "import os\n",
        "import numpy as np\n",
        "import matplotlib.pylab as plt \n",
        "import tarfile, pickle\n",
        "from random import randrange\n",
        "\n",
        "import keras\n",
        "from keras.models import Sequential\n",
        "from keras.layers import Conv2D, MaxPooling2D, Flatten, Dense\n",
        "from keras.optimizers import *\n",
        "from keras.utils import plot_model\n",
        "# run, upgrade tensorflow and rerun\n"
      ],
      "execution_count": 0,
      "outputs": []
    },
    {
      "cell_type": "markdown",
      "metadata": {
        "id": "kLi3jxo8pzU1",
        "colab_type": "text"
      },
      "source": [
        "**Paths and initialisation**"
      ]
    },
    {
      "cell_type": "code",
      "metadata": {
        "colab_type": "code",
        "id": "mpvqWAghIrQl",
        "outputId": "aff827f2-3c93-40de-e8fb-17aa73eb8bec",
        "colab": {
          "base_uri": "https://localhost:8080/",
          "height": 34
        }
      },
      "source": [
        "# Project directory\n",
        "workingDir = '/Cognitive'\n",
        "# Make a project folder if not existent\n",
        "if not os.path.exists(workingDir):\n",
        "    os.makedirs(workingDir)\n",
        "os.chdir(workingDir) # Cd to this foder \n",
        "print(\"The current workig directory is\",os.getcwd()[1:] )\n",
        "\n",
        "%matplotlib notebook"
      ],
      "execution_count": 22,
      "outputs": [
        {
          "output_type": "stream",
          "text": [
            "The current workig directory is Cognitive\n"
          ],
          "name": "stdout"
        }
      ]
    },
    {
      "cell_type": "markdown",
      "metadata": {
        "id": "UPDOYlnMrs0c",
        "colab_type": "text"
      },
      "source": [
        "Functions"
      ]
    },
    {
      "cell_type": "code",
      "metadata": {
        "id": "8-k2OSBDjHP4",
        "colab_type": "code",
        "colab": {}
      },
      "source": [
        "# List non hidden files in current folder\n",
        "def nonHiddenfiles():\n",
        "  fileList = [n_file for n_file in os.listdir() if not n_file.startswith('.')] \n",
        "  return fileList\n",
        "\n",
        "# Unpickle file\n",
        "def unpickle(file):\n",
        "  import pickle\n",
        "  with open(file, 'rb') as fo:\n",
        "    dict = pickle.load(fo, encoding='bytes')\n",
        "  return dict\n"
      ],
      "execution_count": 0,
      "outputs": []
    },
    {
      "cell_type": "markdown",
      "metadata": {
        "id": "747HpAqlgCuX",
        "colab_type": "text"
      },
      "source": [
        "# **2. Dataset loading, unpickling and exploring**\n",
        "\n"
      ]
    },
    {
      "cell_type": "markdown",
      "metadata": {
        "id": "hznt2MB-f0ag",
        "colab_type": "text"
      },
      "source": [
        "## 2.1 Download and decompress dataset"
      ]
    },
    {
      "cell_type": "code",
      "metadata": {
        "id": "J9rQQR8jf_ew",
        "colab_type": "code",
        "outputId": "d64ea810-4dbf-408a-90f0-bd054f014ff5",
        "colab": {
          "base_uri": "https://localhost:8080/",
          "height": 34
        }
      },
      "source": [
        "# Download dataset if not already downloaded\n",
        "fileList = nonHiddenfiles()\n",
        "if len(fileList)==0: # Check for non hidden files\n",
        "  # Donwload \n",
        "  print(\"Downloading data ..\")\n",
        "  !wget -q --show-progress https://www.cs.toronto.edu/%7Ekriz/cifar-100-python.tar.gz\n",
        "  fileList = nonHiddenfiles()\n",
        "  print(\"Dataset\", fileList[-1],  \"downloaded\" )\n",
        "else:\n",
        "  # Do not download\n",
        "  print(\"Dataset\", fileList[-1], \"already downloaded\" )\n",
        "  fileList = nonHiddenfiles()"
      ],
      "execution_count": 24,
      "outputs": [
        {
          "output_type": "stream",
          "text": [
            "Dataset cifar-100-python already downloaded\n"
          ],
          "name": "stdout"
        }
      ]
    },
    {
      "cell_type": "code",
      "metadata": {
        "id": "J1w3VR6wlt_R",
        "colab_type": "code",
        "outputId": "82ab8a35-b43a-4ffe-80f1-1f5bcab300c0",
        "colab": {
          "base_uri": "https://localhost:8080/",
          "height": 34
        }
      },
      "source": [
        "# Decompress dataset\n",
        "fileList = nonHiddenfiles()\n",
        "datasetFile = fileList[-1]\n",
        "if datasetFile.endswith(\"tar.gz\"):\n",
        "  print(\"Decompressing dataset..\")    \n",
        "  tar = tarfile.open(datasetFile, \"r:gz\")    \n",
        "  tar.extractall()\n",
        "  tar.close()\n",
        "  print(\"..into\", tar.name)\n",
        "  os.remove(tar.name) # delete compressed file\n",
        "  fileList.remove(datasetFile)\n",
        "else:\n",
        "  print(\"Dataset uncompressed\") \n"
      ],
      "execution_count": 25,
      "outputs": [
        {
          "output_type": "stream",
          "text": [
            "Dataset uncompressed\n"
          ],
          "name": "stdout"
        }
      ]
    },
    {
      "cell_type": "markdown",
      "metadata": {
        "id": "wm9BUdfvudW0",
        "colab_type": "text"
      },
      "source": [
        "## 2.2 Dataset summary"
      ]
    },
    {
      "cell_type": "code",
      "metadata": {
        "id": "eqkU35pDy83V",
        "colab_type": "code",
        "outputId": "a724edc7-cf35-496e-8fa5-f9824886553e",
        "colab": {
          "base_uri": "https://localhost:8080/",
          "height": 85
        }
      },
      "source": [
        "# Look into the folder\n",
        "os.chdir(nonHiddenfiles()[-1]) \n",
        "# List non hidden content\n",
        "contentList = nonHiddenfiles()\n",
        "print(*contentList, sep = \"\\n\")\n",
        "#%cd .."
      ],
      "execution_count": 26,
      "outputs": [
        {
          "output_type": "stream",
          "text": [
            "meta\n",
            "train\n",
            "file.txt~\n",
            "test\n"
          ],
          "name": "stdout"
        }
      ]
    },
    {
      "cell_type": "code",
      "metadata": {
        "id": "nxz2plQxzpkQ",
        "colab_type": "code",
        "outputId": "f3e3fac1-bef0-4d22-a88b-7baf2f7974e8",
        "cellView": "code",
        "colab": {
          "base_uri": "https://localhost:8080/",
          "height": 51
        }
      },
      "source": [
        "# Unpickle data \n",
        "test = unpickle('test')\n",
        "meta = unpickle('meta')\n",
        "train = unpickle('train')\n",
        "print(type(test), type(meta), type(train))\n",
        "%cd .."
      ],
      "execution_count": 27,
      "outputs": [
        {
          "output_type": "stream",
          "text": [
            "<class 'dict'> <class 'dict'> <class 'dict'>\n",
            "/Cognitive\n"
          ],
          "name": "stdout"
        }
      ]
    },
    {
      "cell_type": "markdown",
      "metadata": {
        "id": "vhE3TZR4OjDc",
        "colab_type": "text"
      },
      "source": [
        "### Table"
      ]
    },
    {
      "cell_type": "code",
      "metadata": {
        "id": "m3J_gO9q5mb0",
        "colab_type": "code",
        "colab": {}
      },
      "source": [
        "print(\"\\tLABEL\",\"\\t\\t\\t\",\"LENGTH\\t\\t\", \"VALUE\")\n",
        "\n",
        "# expore meta dataset\n",
        "print(\"META\")\n",
        "for i in list(range(0,min(100,len(meta)))):\n",
        "  print(list(meta.keys())[i],\"\\t\\t\",len(list(meta.values())[i]),\"\\t\\t\",list(meta.values())[i]), print('\\n')\n",
        "\n",
        "# expore train dataset\n",
        "print(\"TRAIN\")\n",
        "for i in list(range(0,min(100,len(train)))):\n",
        "  print(list(train.keys())[i],\"      \\t\\t\",len(list(train.values())[i]),\"\\t\\t\",list(train.values())[i]), print('\\n')\n",
        "\n",
        "# expore test dataset\n",
        "print(\"TEST\")\n",
        "for i in list(range(0,min(100,len(test)))):\n",
        "  print(list(test.keys())[i],\":          \\t\",len(list(test.values())[i]),\"\\t\\t\", list(test.values())[i]), print('\\n')\n"
      ],
      "execution_count": 0,
      "outputs": []
    },
    {
      "cell_type": "markdown",
      "metadata": {
        "id": "YufO35BGYhyT",
        "colab_type": "text"
      },
      "source": [
        "### Image examples"
      ]
    },
    {
      "cell_type": "code",
      "metadata": {
        "id": "OtCT5akMQ6fo",
        "colab_type": "code",
        "outputId": "35551463-cdce-4d9f-ae08-da13e48787d2",
        "colab": {
          "base_uri": "https://localhost:8080/",
          "height": 281
        }
      },
      "source": [
        "# Show random image examples with their filename, coarse category and fine category\n",
        "%matplotlib inline\n",
        "trainImages = train[b'data'].reshape(50000,3,32,32).transpose(0,2,3,1);\n",
        "\n",
        "thisImage=randrange(len(train[b'filenames']));\n",
        "plt.imshow(trainImages[thisImage].squeeze());\n",
        "plt.title([train[b'filenames'][thisImage], meta[b'fine_label_names'][train[b'fine_labels'][thisImage]],meta[b'coarse_label_names'][train[b'coarse_labels'][thisImage]]] );\n"
      ],
      "execution_count": 9,
      "outputs": [
        {
          "output_type": "display_data",
          "data": {
            "image/png": "[encoded data removed]",
            "text/plain": [
              "<Figure size 432x288 with 1 Axes>"
            ]
          },
          "metadata": {
            "tags": []
          }
        }
      ]
    },
    {
      "cell_type": "markdown",
      "metadata": {
        "id": "n4LgclFStgZa",
        "colab_type": "text"
      },
      "source": [
        "# 3.NN classification\n",
        "\n"
      ]
    },
    {
      "cell_type": "markdown",
      "metadata": {
        "id": "2hCvowU3uL1Y",
        "colab_type": "text"
      },
      "source": [
        "Initialisation"
      ]
    },
    {
      "cell_type": "code",
      "metadata": {
        "id": "ox-kPbwNhYxc",
        "colab_type": "code",
        "colab": {}
      },
      "source": [
        "# Clear any logs from previous runs\n",
        "#!rm -rf ./logs/\n",
        "\n",
        "# Make results folder\n",
        "if not os.path.exists('Results'):\n",
        "    os.makedirs('Results')"
      ],
      "execution_count": 0,
      "outputs": []
    },
    {
      "cell_type": "markdown",
      "metadata": {
        "id": "RP4CN59c18Ik",
        "colab_type": "text"
      },
      "source": [
        "## 3.1. Data pre-processing"
      ]
    },
    {
      "cell_type": "code",
      "metadata": {
        "id": "mSSt_1wBFQ1Q",
        "colab_type": "code",
        "outputId": "6039b1eb-c99a-46b9-d83a-05e700af46dc",
        "colab": {
          "base_uri": "https://localhost:8080/",
          "height": 34
        }
      },
      "source": [
        "# type and shape of image data, min and max value\n",
        "print(type(train[b'data']),train[b'data'].shape, [train[b'data'].min(),train[b'data'].max()])\n"
      ],
      "execution_count": 11,
      "outputs": [
        {
          "output_type": "stream",
          "text": [
            "<class 'numpy.ndarray'> (50000, 3072) [0, 255]\n"
          ],
          "name": "stdout"
        }
      ]
    },
    {
      "cell_type": "code",
      "metadata": {
        "id": "zi2y69cWVifJ",
        "colab_type": "code",
        "outputId": "40eb62b5-c8cc-455d-f0be-44326e410a51",
        "colab": {
          "base_uri": "https://localhost:8080/",
          "height": 51
        }
      },
      "source": [
        "# Number of classses\n",
        "nClasses = 100\n",
        "\n",
        "# get and reshape dataset\n",
        "trainImages = train[b'data'].reshape(50000,3,32,32).transpose(0,2,3,1).astype('float32');\n",
        "testImages = test[b'data'].reshape(10000,3,32,32).transpose(0,2,3,1).astype('float32');\n",
        "print(trainImages.shape,  testImages.shape)\n",
        "\n",
        "# get labels and create output binary class matrices\n",
        "trainLabels = train[b'fine_labels']\n",
        "testLabels = test[b'fine_labels']\n",
        "print(len(trainLabels))\n",
        "# convert class label vectors to binary class matrices.\n",
        "trainLabels = keras.utils.to_categorical(trainLabels, nClasses)\n",
        "testLabels = keras.utils.to_categorical(testLabels, nClasses)\n"
      ],
      "execution_count": 12,
      "outputs": [
        {
          "output_type": "stream",
          "text": [
            "(50000, 32, 32, 3) (10000, 32, 32, 3)\n",
            "50000\n"
          ],
          "name": "stdout"
        }
      ]
    },
    {
      "cell_type": "code",
      "metadata": {
        "id": "I9Sqa3RiYsjz",
        "colab_type": "code",
        "outputId": "3bb33734-4d57-4f1d-d7e4-52efb3a685e9",
        "colab": {
          "base_uri": "https://localhost:8080/",
          "height": 34
        }
      },
      "source": [
        "# Normalisation\n",
        "trainImages = (trainImages - trainImages.min()) / (trainImages.max() - trainImages.min())\n",
        "print('Values range :', [trainImages.min(),trainImages.max()], ', labels range',[trainLabels.min(),trainLabels.max()])\n"
      ],
      "execution_count": 13,
      "outputs": [
        {
          "output_type": "stream",
          "text": [
            "Values range : [0.0, 1.0] , labels range [0.0, 1.0]\n"
          ],
          "name": "stdout"
        }
      ]
    },
    {
      "cell_type": "markdown",
      "metadata": {
        "id": "XQxQ9-e2Zf09",
        "colab_type": "text"
      },
      "source": [
        "## 3.2. Model"
      ]
    },
    {
      "cell_type": "markdown",
      "metadata": {
        "id": "6fE4u0Ka1CIv",
        "colab_type": "text"
      },
      "source": [
        "100-class classifier : \n",
        "CNN with 3 convolutional-maxpooling layers and 2 fully connected layers\n"
      ]
    },
    {
      "cell_type": "code",
      "metadata": {
        "id": "vtaRyp1Ja0H3",
        "colab_type": "code",
        "outputId": "f6fcdee7-d6c2-470f-90d8-2e08cd80af0b",
        "colab": {
          "base_uri": "https://localhost:8080/",
          "height": 700
        }
      },
      "source": [
        "# Build the CNN\n",
        "\n",
        "classifier = Sequential()\n",
        "# First convolution-maxpooling\n",
        "#classifier.add(Convolution2D(32, (3, 3), input_shape = (32, 32, 3), activation = 'relu', padding='same'))\n",
        "classifier.add(Conv2D(32, (3, 3), input_shape = (32, 32, 3), activation = 'relu', padding='same'))\n",
        "classifier.add(MaxPooling2D(pool_size = (2, 2), strides=(2,2)))\n",
        "\n",
        "# Second convolution-maxpooling\n",
        "classifier.add(Conv2D(64, (3, 3), activation = 'relu', padding='same'))\n",
        "classifier.add(MaxPooling2D(pool_size = (2, 2), strides=2, padding='valid'))\n",
        "\n",
        "# Third convolution-maxpooling\n",
        "classifier.add(Conv2D(32, (3, 3), activation = 'relu', padding='same'))\n",
        "classifier.add(MaxPooling2D(pool_size = (2, 2), strides=2, padding='valid'))\n",
        "\n",
        "# Fourth convolution-maxpooling\n",
        "#classifier.add(Conv2D(256, (3, 3), activation = 'relu', padding='same'))\n",
        "#classifier.add(MaxPooling2D(pool_size = (2, 2), strides=2, padding='valid'))\n",
        "\n",
        "# Flattening\n",
        "classifier.add(Flatten())\n",
        "\n",
        "# Full connection\n",
        "classifier.add(Dense(256, activation = 'relu')) # sigmoid softmax\n",
        "classifier.add(Dense(output_dim = nClasses, activation = 'softmax')) # sigmoid softmax\n",
        "\n",
        "# Compiling the CNN\n",
        "classifier.compile(optimizer = Adam(lr=0.001), loss = 'categorical_crossentropy', metrics = ['accuracy'])\n",
        "\n",
        "# Print topology\n",
        "classifier.summary(80)\n"
      ],
      "execution_count": 14,
      "outputs": [
        {
          "output_type": "stream",
          "text": [
            "WARNING:tensorflow:From /usr/local/lib/python3.6/dist-packages/keras/backend/tensorflow_backend.py:66: The name tf.get_default_graph is deprecated. Please use tf.compat.v1.get_default_graph instead.\n",
            "\n",
            "WARNING:tensorflow:From /usr/local/lib/python3.6/dist-packages/keras/backend/tensorflow_backend.py:541: The name tf.placeholder is deprecated. Please use tf.compat.v1.placeholder instead.\n",
            "\n",
            "WARNING:tensorflow:From /usr/local/lib/python3.6/dist-packages/keras/backend/tensorflow_backend.py:4432: The name tf.random_uniform is deprecated. Please use tf.random.uniform instead.\n",
            "\n",
            "WARNING:tensorflow:From /usr/local/lib/python3.6/dist-packages/keras/backend/tensorflow_backend.py:4267: The name tf.nn.max_pool is deprecated. Please use tf.nn.max_pool2d instead.\n",
            "\n",
            "WARNING:tensorflow:From /usr/local/lib/python3.6/dist-packages/keras/optimizers.py:793: The name tf.train.Optimizer is deprecated. Please use tf.compat.v1.train.Optimizer instead.\n",
            "\n",
            "WARNING:tensorflow:From /usr/local/lib/python3.6/dist-packages/keras/backend/tensorflow_backend.py:3576: The name tf.log is deprecated. Please use tf.math.log instead.\n",
            "\n",
            "Model: \"sequential_1\"\n",
            "________________________________________________________________________________\n",
            "Layer (type)                        Output Shape                    Param #     \n",
            "================================================================================\n",
            "conv2d_1 (Conv2D)                   (None, 32, 32, 32)              896         \n",
            "________________________________________________________________________________\n",
            "max_pooling2d_1 (MaxPooling2D)      (None, 16, 16, 32)              0           \n",
            "________________________________________________________________________________\n",
            "conv2d_2 (Conv2D)                   (None, 16, 16, 64)              18496       \n",
            "________________________________________________________________________________\n",
            "max_pooling2d_2 (MaxPooling2D)      (None, 8, 8, 64)                0           \n",
            "________________________________________________________________________________\n",
            "conv2d_3 (Conv2D)                   (None, 8, 8, 32)                18464       \n",
            "________________________________________________________________________________\n",
            "max_pooling2d_3 (MaxPooling2D)      (None, 4, 4, 32)                0           \n",
            "________________________________________________________________________________\n",
            "flatten_1 (Flatten)                 (None, 512)                     0           \n",
            "________________________________________________________________________________\n",
            "dense_1 (Dense)                     (None, 256)                     131328      \n",
            "________________________________________________________________________________\n",
            "dense_2 (Dense)                     (None, 100)                     25700       \n",
            "================================================================================\n",
            "Total params: 194,884\n",
            "Trainable params: 194,884\n",
            "Non-trainable params: 0\n",
            "________________________________________________________________________________\n"
          ],
          "name": "stdout"
        },
        {
          "output_type": "stream",
          "text": [
            "/usr/local/lib/python3.6/dist-packages/ipykernel_launcher.py:25: UserWarning: Update your `Dense` call to the Keras 2 API: `Dense(activation=\"softmax\", units=100)`\n"
          ],
          "name": "stderr"
        }
      ]
    },
    {
      "cell_type": "code",
      "metadata": {
        "id": "m3eUzN-hhl5g",
        "colab_type": "code",
        "colab": {
          "base_uri": "https://localhost:8080/",
          "height": 953
        },
        "outputId": "c2098ce0-f239-405a-a9a0-57485d463ca3"
      },
      "source": [
        "# Draw topology\n",
        "\n",
        "plot_model(classifier, to_file='Results/topology.png')"
      ],
      "execution_count": 15,
      "outputs": [
        {
          "output_type": "execute_result",
          "data": {
            "image/png": "[encoded data removed]",
            "text/plain": [
              "<IPython.core.display.Image object>"
            ]
          },
          "metadata": {
            "tags": []
          },
          "execution_count": 15
        }
      ]
    },
    {
      "cell_type": "markdown",
      "metadata": {
        "id": "QtWo4UGHFbzA",
        "colab_type": "text"
      },
      "source": [
        "## 3.2. Training"
      ]
    },
    {
      "cell_type": "markdown",
      "metadata": {
        "id": "TGY_TLSsNiJJ",
        "colab_type": "text"
      },
      "source": [
        "* Activation function in hidden layers : ReLU\n",
        "* Loss function : categorical cross entropy\n",
        "* Optimiser: Adam with learning rate 0.001 and batch size ={{batchSize}}\n",
        "* Accuracy xx achieved after 150 epochs "
      ]
    },
    {
      "cell_type": "code",
      "metadata": {
        "id": "EF08dkvrFXfZ",
        "colab_type": "code",
        "outputId": "a256d180-7d9b-4845-9e10-2fba597546a4",
        "colab": {
          "base_uri": "https://localhost:8080/",
          "height": 1000
        }
      },
      "source": [
        "# Hyperparameters\n",
        "batchSize = 20\n",
        "epochsN =  200 #150\n",
        "split = 0.2\n",
        "\n",
        "# Training\n",
        "history = classifier.fit(trainImages, trainLabels, validation_split = split, batch_size = batchSize, epochs = epochsN, shuffle = True, verbose=2 )\n",
        "\n",
        "# Save model\n",
        "classifier.save('Results/classifier')\n"
      ],
      "execution_count": 16,
      "outputs": [
        {
          "output_type": "stream",
          "text": [
            "WARNING:tensorflow:From /usr/local/lib/python3.6/dist-packages/tensorflow_core/python/ops/math_grad.py:1424: where (from tensorflow.python.ops.array_ops) is deprecated and will be removed in a future version.\n",
            "Instructions for updating:\n",
            "Use tf.where in 2.0, which has the same broadcast rule as np.where\n",
            "WARNING:tensorflow:From /usr/local/lib/python3.6/dist-packages/keras/backend/tensorflow_backend.py:1033: The name tf.assign_add is deprecated. Please use tf.compat.v1.assign_add instead.\n",
            "\n",
            "WARNING:tensorflow:From /usr/local/lib/python3.6/dist-packages/keras/backend/tensorflow_backend.py:1020: The name tf.assign is deprecated. Please use tf.compat.v1.assign instead.\n",
            "\n",
            "WARNING:tensorflow:From /usr/local/lib/python3.6/dist-packages/keras/backend/tensorflow_backend.py:3005: The name tf.Session is deprecated. Please use tf.compat.v1.Session instead.\n",
            "\n",
            "Train on 40000 samples, validate on 10000 samples\n",
            "Epoch 1/200\n",
            "WARNING:tensorflow:From /usr/local/lib/python3.6/dist-packages/keras/backend/tensorflow_backend.py:190: The name tf.get_default_session is deprecated. Please use tf.compat.v1.get_default_session instead.\n",
            "\n",
            "WARNING:tensorflow:From /usr/local/lib/python3.6/dist-packages/keras/backend/tensorflow_backend.py:197: The name tf.ConfigProto is deprecated. Please use tf.compat.v1.ConfigProto instead.\n",
            "\n",
            "WARNING:tensorflow:From /usr/local/lib/python3.6/dist-packages/keras/backend/tensorflow_backend.py:207: The name tf.global_variables is deprecated. Please use tf.compat.v1.global_variables instead.\n",
            "\n",
            "WARNING:tensorflow:From /usr/local/lib/python3.6/dist-packages/keras/backend/tensorflow_backend.py:216: The name tf.is_variable_initialized is deprecated. Please use tf.compat.v1.is_variable_initialized instead.\n",
            "\n",
            "WARNING:tensorflow:From /usr/local/lib/python3.6/dist-packages/keras/backend/tensorflow_backend.py:223: The name tf.variables_initializer is deprecated. Please use tf.compat.v1.variables_initializer instead.\n",
            "\n",
            " - 86s - loss: 3.7996 - acc: 0.1196 - val_loss: 3.3671 - val_acc: 0.1907\n",
            "Epoch 2/200\n",
            " - 87s - loss: 3.0326 - acc: 0.2524 - val_loss: 2.9198 - val_acc: 0.2790\n",
            "Epoch 3/200\n",
            " - 87s - loss: 2.6957 - acc: 0.3192 - val_loss: 2.8031 - val_acc: 0.3061\n",
            "Epoch 4/200\n",
            " - 88s - loss: 2.4809 - acc: 0.3624 - val_loss: 2.6877 - val_acc: 0.3285\n",
            "Epoch 5/200\n",
            " - 89s - loss: 2.3085 - acc: 0.3966 - val_loss: 2.6111 - val_acc: 0.3545\n",
            "Epoch 6/200\n",
            " - 88s - loss: 2.1684 - acc: 0.4309 - val_loss: 2.6161 - val_acc: 0.3525\n",
            "Epoch 7/200\n",
            " - 89s - loss: 2.0401 - acc: 0.4564 - val_loss: 2.6127 - val_acc: 0.3517\n",
            "Epoch 8/200\n",
            " - 88s - loss: 1.9266 - acc: 0.4845 - val_loss: 2.6579 - val_acc: 0.3558\n",
            "Epoch 9/200\n",
            " - 91s - loss: 1.8204 - acc: 0.5023 - val_loss: 2.7372 - val_acc: 0.3480\n",
            "Epoch 10/200\n",
            " - 89s - loss: 1.7163 - acc: 0.5296 - val_loss: 2.7448 - val_acc: 0.3567\n",
            "Epoch 11/200\n",
            " - 89s - loss: 1.6263 - acc: 0.5494 - val_loss: 2.8776 - val_acc: 0.3535\n",
            "Epoch 12/200\n",
            " - 89s - loss: 1.5403 - acc: 0.5671 - val_loss: 2.8543 - val_acc: 0.3498\n",
            "Epoch 13/200\n",
            " - 88s - loss: 1.4568 - acc: 0.5865 - val_loss: 3.0032 - val_acc: 0.3467\n",
            "Epoch 14/200\n",
            " - 88s - loss: 1.3812 - acc: 0.6058 - val_loss: 3.0551 - val_acc: 0.3506\n",
            "Epoch 15/200\n",
            " - 90s - loss: 1.3020 - acc: 0.6239 - val_loss: 3.2369 - val_acc: 0.3472\n",
            "Epoch 16/200\n",
            " - 91s - loss: 1.2381 - acc: 0.6418 - val_loss: 3.2691 - val_acc: 0.3411\n",
            "Epoch 17/200\n",
            " - 89s - loss: 1.1614 - acc: 0.6592 - val_loss: 3.3856 - val_acc: 0.3357\n",
            "Epoch 18/200\n",
            " - 88s - loss: 1.1152 - acc: 0.6678 - val_loss: 3.4889 - val_acc: 0.3356\n",
            "Epoch 19/200\n",
            " - 89s - loss: 1.0498 - acc: 0.6890 - val_loss: 3.7164 - val_acc: 0.3301\n",
            "Epoch 20/200\n",
            " - 89s - loss: 1.0031 - acc: 0.6966 - val_loss: 3.7856 - val_acc: 0.3300\n",
            "Epoch 21/200\n",
            " - 90s - loss: 0.9395 - acc: 0.7160 - val_loss: 4.0969 - val_acc: 0.3279\n",
            "Epoch 22/200\n",
            " - 90s - loss: 0.9038 - acc: 0.7252 - val_loss: 4.0826 - val_acc: 0.3275\n",
            "Epoch 23/200\n",
            " - 91s - loss: 0.8548 - acc: 0.7409 - val_loss: 4.3385 - val_acc: 0.3279\n",
            "Epoch 24/200\n",
            " - 90s - loss: 0.8177 - acc: 0.7467 - val_loss: 4.3611 - val_acc: 0.3303\n",
            "Epoch 25/200\n",
            " - 90s - loss: 0.7823 - acc: 0.7558 - val_loss: 4.4481 - val_acc: 0.3207\n",
            "Epoch 26/200\n",
            " - 90s - loss: 0.7427 - acc: 0.7686 - val_loss: 4.6299 - val_acc: 0.3200\n",
            "Epoch 27/200\n",
            " - 90s - loss: 0.7141 - acc: 0.7771 - val_loss: 4.8405 - val_acc: 0.3188\n",
            "Epoch 28/200\n",
            " - 89s - loss: 0.6897 - acc: 0.7853 - val_loss: 4.9804 - val_acc: 0.3170\n",
            "Epoch 29/200\n",
            " - 90s - loss: 0.6683 - acc: 0.7900 - val_loss: 5.0634 - val_acc: 0.3144\n",
            "Epoch 30/200\n",
            " - 90s - loss: 0.6349 - acc: 0.7982 - val_loss: 5.2028 - val_acc: 0.3188\n",
            "Epoch 31/200\n",
            " - 90s - loss: 0.6224 - acc: 0.8011 - val_loss: 5.3328 - val_acc: 0.3198\n",
            "Epoch 32/200\n",
            " - 90s - loss: 0.5899 - acc: 0.8135 - val_loss: 5.6113 - val_acc: 0.3153\n",
            "Epoch 33/200\n",
            " - 89s - loss: 0.5798 - acc: 0.8136 - val_loss: 5.7235 - val_acc: 0.3100\n",
            "Epoch 34/200\n",
            " - 89s - loss: 0.5672 - acc: 0.8183 - val_loss: 5.8534 - val_acc: 0.3184\n",
            "Epoch 35/200\n",
            " - 88s - loss: 0.5568 - acc: 0.8222 - val_loss: 5.8066 - val_acc: 0.3097\n",
            "Epoch 36/200\n",
            " - 89s - loss: 0.5389 - acc: 0.8294 - val_loss: 5.9532 - val_acc: 0.3145\n",
            "Epoch 37/200\n",
            " - 88s - loss: 0.5240 - acc: 0.8331 - val_loss: 5.9925 - val_acc: 0.3133\n",
            "Epoch 38/200\n",
            " - 88s - loss: 0.5105 - acc: 0.8380 - val_loss: 6.2657 - val_acc: 0.3132\n",
            "Epoch 39/200\n",
            " - 89s - loss: 0.5125 - acc: 0.8390 - val_loss: 6.2754 - val_acc: 0.3058\n",
            "Epoch 40/200\n",
            " - 89s - loss: 0.5046 - acc: 0.8400 - val_loss: 6.3293 - val_acc: 0.3097\n",
            "Epoch 41/200\n",
            " - 89s - loss: 0.4967 - acc: 0.8447 - val_loss: 6.4864 - val_acc: 0.3054\n",
            "Epoch 42/200\n",
            " - 87s - loss: 0.4933 - acc: 0.8475 - val_loss: 6.6602 - val_acc: 0.3038\n",
            "Epoch 43/200\n",
            " - 87s - loss: 0.4685 - acc: 0.8509 - val_loss: 6.5896 - val_acc: 0.3079\n",
            "Epoch 44/200\n",
            " - 87s - loss: 0.4714 - acc: 0.8523 - val_loss: 6.8289 - val_acc: 0.2995\n",
            "Epoch 45/200\n",
            " - 87s - loss: 0.4669 - acc: 0.8532 - val_loss: 6.7296 - val_acc: 0.3030\n",
            "Epoch 46/200\n",
            " - 87s - loss: 0.4589 - acc: 0.8579 - val_loss: 6.8935 - val_acc: 0.3090\n",
            "Epoch 47/200\n",
            " - 88s - loss: 0.4536 - acc: 0.8597 - val_loss: 6.8763 - val_acc: 0.3048\n",
            "Epoch 48/200\n",
            " - 90s - loss: 0.4553 - acc: 0.8591 - val_loss: 7.0787 - val_acc: 0.3007\n",
            "Epoch 49/200\n",
            " - 89s - loss: 0.4376 - acc: 0.8629 - val_loss: 7.2157 - val_acc: 0.2986\n",
            "Epoch 50/200\n",
            " - 88s - loss: 0.4361 - acc: 0.8667 - val_loss: 7.1050 - val_acc: 0.3110\n",
            "Epoch 51/200\n",
            " - 88s - loss: 0.4380 - acc: 0.8664 - val_loss: 7.0955 - val_acc: 0.3010\n",
            "Epoch 52/200\n",
            " - 90s - loss: 0.4349 - acc: 0.8670 - val_loss: 7.3655 - val_acc: 0.2954\n",
            "Epoch 53/200\n",
            " - 89s - loss: 0.4441 - acc: 0.8677 - val_loss: 7.3984 - val_acc: 0.2941\n",
            "Epoch 54/200\n",
            " - 89s - loss: 0.4208 - acc: 0.8727 - val_loss: 7.3864 - val_acc: 0.3028\n",
            "Epoch 55/200\n",
            " - 88s - loss: 0.4303 - acc: 0.8717 - val_loss: 7.4860 - val_acc: 0.3033\n",
            "Epoch 56/200\n",
            " - 89s - loss: 0.4175 - acc: 0.8726 - val_loss: 7.4935 - val_acc: 0.2939\n",
            "Epoch 57/200\n",
            " - 88s - loss: 0.4282 - acc: 0.8730 - val_loss: 7.4999 - val_acc: 0.2975\n",
            "Epoch 58/200\n",
            " - 88s - loss: 0.4166 - acc: 0.8761 - val_loss: 7.5069 - val_acc: 0.3023\n",
            "Epoch 59/200\n",
            " - 89s - loss: 0.4215 - acc: 0.8749 - val_loss: 7.6133 - val_acc: 0.2968\n",
            "Epoch 60/200\n",
            " - 88s - loss: 0.4287 - acc: 0.8728 - val_loss: 7.5536 - val_acc: 0.2939\n",
            "Epoch 61/200\n",
            " - 88s - loss: 0.4126 - acc: 0.8784 - val_loss: 7.6496 - val_acc: 0.2995\n",
            "Epoch 62/200\n",
            " - 89s - loss: 0.4180 - acc: 0.8786 - val_loss: 7.6379 - val_acc: 0.3011\n",
            "Epoch 63/200\n",
            " - 90s - loss: 0.4182 - acc: 0.8798 - val_loss: 7.7433 - val_acc: 0.3001\n",
            "Epoch 64/200\n",
            " - 90s - loss: 0.4036 - acc: 0.8836 - val_loss: 7.8156 - val_acc: 0.2994\n",
            "Epoch 65/200\n",
            " - 89s - loss: 0.4267 - acc: 0.8773 - val_loss: 7.9273 - val_acc: 0.2965\n",
            "Epoch 66/200\n",
            " - 89s - loss: 0.4064 - acc: 0.8839 - val_loss: 7.9550 - val_acc: 0.2976\n",
            "Epoch 67/200\n",
            " - 88s - loss: 0.4064 - acc: 0.8820 - val_loss: 8.0625 - val_acc: 0.2913\n",
            "Epoch 68/200\n",
            " - 89s - loss: 0.4139 - acc: 0.8832 - val_loss: 8.0789 - val_acc: 0.2990\n",
            "Epoch 69/200\n",
            " - 88s - loss: 0.4028 - acc: 0.8873 - val_loss: 8.0785 - val_acc: 0.2952\n",
            "Epoch 70/200\n",
            " - 89s - loss: 0.4024 - acc: 0.8864 - val_loss: 8.0585 - val_acc: 0.3028\n",
            "Epoch 71/200\n",
            " - 90s - loss: 0.4175 - acc: 0.8836 - val_loss: 8.1161 - val_acc: 0.2977\n",
            "Epoch 72/200\n",
            " - 88s - loss: 0.3885 - acc: 0.8919 - val_loss: 8.0796 - val_acc: 0.2979\n",
            "Epoch 73/200\n",
            " - 89s - loss: 0.4112 - acc: 0.8874 - val_loss: 8.0725 - val_acc: 0.2963\n",
            "Epoch 74/200\n",
            " - 89s - loss: 0.4063 - acc: 0.8887 - val_loss: 8.1450 - val_acc: 0.2969\n",
            "Epoch 75/200\n",
            " - 89s - loss: 0.4329 - acc: 0.8840 - val_loss: 8.2166 - val_acc: 0.2949\n",
            "Epoch 76/200\n",
            " - 88s - loss: 0.4034 - acc: 0.8924 - val_loss: 8.3272 - val_acc: 0.2978\n",
            "Epoch 77/200\n",
            " - 88s - loss: 0.4039 - acc: 0.8907 - val_loss: 8.2917 - val_acc: 0.2981\n",
            "Epoch 78/200\n",
            " - 88s - loss: 0.3986 - acc: 0.8937 - val_loss: 8.3837 - val_acc: 0.2921\n",
            "Epoch 79/200\n",
            " - 88s - loss: 0.3921 - acc: 0.8938 - val_loss: 8.3346 - val_acc: 0.2949\n",
            "Epoch 80/200\n",
            " - 89s - loss: 0.4143 - acc: 0.8893 - val_loss: 8.4486 - val_acc: 0.2933\n",
            "Epoch 81/200\n",
            " - 90s - loss: 0.3940 - acc: 0.8945 - val_loss: 8.3626 - val_acc: 0.2986\n",
            "Epoch 82/200\n",
            " - 89s - loss: 0.4056 - acc: 0.8911 - val_loss: 8.3892 - val_acc: 0.2951\n",
            "Epoch 83/200\n",
            " - 87s - loss: 0.4244 - acc: 0.8905 - val_loss: 8.4412 - val_acc: 0.2934\n",
            "Epoch 84/200\n",
            " - 88s - loss: 0.3998 - acc: 0.8940 - val_loss: 8.5792 - val_acc: 0.2914\n",
            "Epoch 85/200\n",
            " - 91s - loss: 0.3946 - acc: 0.8955 - val_loss: 8.5261 - val_acc: 0.3008\n",
            "Epoch 86/200\n",
            " - 89s - loss: 0.4036 - acc: 0.8943 - val_loss: 8.5061 - val_acc: 0.2967\n",
            "Epoch 87/200\n",
            " - 88s - loss: 0.4030 - acc: 0.8946 - val_loss: 8.6295 - val_acc: 0.2898\n",
            "Epoch 88/200\n",
            " - 89s - loss: 0.4259 - acc: 0.8934 - val_loss: 8.6782 - val_acc: 0.2945\n",
            "Epoch 89/200\n",
            " - 89s - loss: 0.3910 - acc: 0.9009 - val_loss: 8.6106 - val_acc: 0.2970\n",
            "Epoch 90/200\n",
            " - 88s - loss: 0.4254 - acc: 0.8938 - val_loss: 8.6449 - val_acc: 0.2907\n",
            "Epoch 91/200\n",
            " - 88s - loss: 0.4131 - acc: 0.8945 - val_loss: 8.7906 - val_acc: 0.2953\n",
            "Epoch 92/200\n",
            " - 89s - loss: 0.4299 - acc: 0.8955 - val_loss: 8.7209 - val_acc: 0.2971\n",
            "Epoch 93/200\n",
            " - 88s - loss: 0.4017 - acc: 0.9000 - val_loss: 8.7411 - val_acc: 0.2974\n",
            "Epoch 94/200\n",
            " - 88s - loss: 0.3895 - acc: 0.9033 - val_loss: 8.7358 - val_acc: 0.2976\n",
            "Epoch 95/200\n",
            " - 88s - loss: 0.4197 - acc: 0.8967 - val_loss: 8.7767 - val_acc: 0.2971\n",
            "Epoch 96/200\n",
            " - 89s - loss: 0.4100 - acc: 0.8991 - val_loss: 8.9051 - val_acc: 0.2936\n",
            "Epoch 97/200\n",
            " - 88s - loss: 0.4018 - acc: 0.9034 - val_loss: 8.7537 - val_acc: 0.2978\n",
            "Epoch 98/200\n",
            " - 89s - loss: 0.4300 - acc: 0.8958 - val_loss: 8.8653 - val_acc: 0.2969\n",
            "Epoch 99/200\n",
            " - 91s - loss: 0.3918 - acc: 0.9043 - val_loss: 8.9419 - val_acc: 0.2955\n",
            "Epoch 100/200\n",
            " - 89s - loss: 0.4038 - acc: 0.9022 - val_loss: 8.9396 - val_acc: 0.2910\n",
            "Epoch 101/200\n",
            " - 88s - loss: 0.4271 - acc: 0.8971 - val_loss: 9.0191 - val_acc: 0.2897\n",
            "Epoch 102/200\n",
            " - 88s - loss: 0.4198 - acc: 0.8997 - val_loss: 8.9057 - val_acc: 0.2914\n",
            "Epoch 103/200\n",
            " - 89s - loss: 0.4063 - acc: 0.9030 - val_loss: 9.0876 - val_acc: 0.2900\n",
            "Epoch 104/200\n",
            " - 89s - loss: 0.4222 - acc: 0.9012 - val_loss: 8.9699 - val_acc: 0.2878\n",
            "Epoch 105/200\n",
            " - 89s - loss: 0.4210 - acc: 0.9026 - val_loss: 8.9914 - val_acc: 0.2940\n",
            "Epoch 106/200\n",
            " - 91s - loss: 0.4071 - acc: 0.9061 - val_loss: 9.0962 - val_acc: 0.2931\n",
            "Epoch 107/200\n",
            " - 89s - loss: 0.4263 - acc: 0.9012 - val_loss: 9.1155 - val_acc: 0.2926\n",
            "Epoch 108/200\n",
            " - 89s - loss: 0.4422 - acc: 0.8989 - val_loss: 9.0954 - val_acc: 0.2961\n",
            "Epoch 109/200\n",
            " - 88s - loss: 0.4325 - acc: 0.9027 - val_loss: 9.1767 - val_acc: 0.2947\n",
            "Epoch 110/200\n",
            " - 89s - loss: 0.4140 - acc: 0.9036 - val_loss: 9.1823 - val_acc: 0.2884\n",
            "Epoch 111/200\n",
            " - 88s - loss: 0.4305 - acc: 0.9018 - val_loss: 9.2168 - val_acc: 0.2909\n",
            "Epoch 112/200\n",
            " - 88s - loss: 0.4147 - acc: 0.9053 - val_loss: 9.1650 - val_acc: 0.2851\n",
            "Epoch 113/200\n",
            " - 88s - loss: 0.4387 - acc: 0.9019 - val_loss: 9.2283 - val_acc: 0.2881\n",
            "Epoch 114/200\n",
            " - 88s - loss: 0.4297 - acc: 0.9032 - val_loss: 9.1509 - val_acc: 0.2970\n",
            "Epoch 115/200\n",
            " - 87s - loss: 0.4260 - acc: 0.9078 - val_loss: 9.2441 - val_acc: 0.2932\n",
            "Epoch 116/200\n",
            " - 86s - loss: 0.4335 - acc: 0.9047 - val_loss: 9.3012 - val_acc: 0.2890\n",
            "Epoch 117/200\n",
            " - 86s - loss: 0.4264 - acc: 0.9067 - val_loss: 9.3330 - val_acc: 0.2872\n",
            "Epoch 118/200\n",
            " - 85s - loss: 0.4478 - acc: 0.9032 - val_loss: 9.2834 - val_acc: 0.2885\n",
            "Epoch 119/200\n",
            " - 85s - loss: 0.4016 - acc: 0.9109 - val_loss: 9.3306 - val_acc: 0.2942\n",
            "Epoch 120/200\n",
            " - 85s - loss: 0.4358 - acc: 0.9044 - val_loss: 9.3293 - val_acc: 0.2946\n",
            "Epoch 121/200\n",
            " - 86s - loss: 0.4287 - acc: 0.9067 - val_loss: 9.2988 - val_acc: 0.2915\n",
            "Epoch 122/200\n",
            " - 85s - loss: 0.4569 - acc: 0.9033 - val_loss: 9.3266 - val_acc: 0.2953\n",
            "Epoch 123/200\n",
            " - 84s - loss: 0.4221 - acc: 0.9092 - val_loss: 9.3739 - val_acc: 0.2899\n",
            "Epoch 124/200\n",
            " - 85s - loss: 0.4469 - acc: 0.9056 - val_loss: 9.3445 - val_acc: 0.2929\n",
            "Epoch 125/200\n",
            " - 85s - loss: 0.4328 - acc: 0.9089 - val_loss: 9.3974 - val_acc: 0.2824\n",
            "Epoch 126/200\n",
            " - 84s - loss: 0.4489 - acc: 0.9042 - val_loss: 9.3833 - val_acc: 0.2894\n",
            "Epoch 127/200\n",
            " - 84s - loss: 0.4440 - acc: 0.9071 - val_loss: 9.5130 - val_acc: 0.2879\n",
            "Epoch 128/200\n",
            " - 85s - loss: 0.4565 - acc: 0.9042 - val_loss: 9.4396 - val_acc: 0.2841\n",
            "Epoch 129/200\n",
            " - 85s - loss: 0.4396 - acc: 0.9081 - val_loss: 9.4414 - val_acc: 0.2941\n",
            "Epoch 130/200\n",
            " - 88s - loss: 0.4813 - acc: 0.9041 - val_loss: 9.4435 - val_acc: 0.2895\n",
            "Epoch 131/200\n",
            " - 88s - loss: 0.4403 - acc: 0.9089 - val_loss: 9.4731 - val_acc: 0.2924\n",
            "Epoch 132/200\n",
            " - 88s - loss: 0.4314 - acc: 0.9098 - val_loss: 9.5127 - val_acc: 0.2907\n",
            "Epoch 133/200\n",
            " - 87s - loss: 0.4822 - acc: 0.9052 - val_loss: 9.5350 - val_acc: 0.2890\n",
            "Epoch 134/200\n",
            " - 87s - loss: 0.4261 - acc: 0.9132 - val_loss: 9.4589 - val_acc: 0.2924\n",
            "Epoch 135/200\n",
            " - 88s - loss: 0.4691 - acc: 0.9058 - val_loss: 9.5521 - val_acc: 0.2926\n",
            "Epoch 136/200\n",
            " - 90s - loss: 0.4430 - acc: 0.9106 - val_loss: 9.6306 - val_acc: 0.2853\n",
            "Epoch 137/200\n",
            " - 88s - loss: 0.4580 - acc: 0.9085 - val_loss: 9.5750 - val_acc: 0.2941\n",
            "Epoch 138/200\n",
            " - 88s - loss: 0.4356 - acc: 0.9109 - val_loss: 9.5971 - val_acc: 0.2902\n",
            "Epoch 139/200\n",
            " - 87s - loss: 0.4871 - acc: 0.9068 - val_loss: 9.5805 - val_acc: 0.2897\n",
            "Epoch 140/200\n",
            " - 88s - loss: 0.4674 - acc: 0.9095 - val_loss: 9.6773 - val_acc: 0.2941\n",
            "Epoch 141/200\n",
            " - 87s - loss: 0.4908 - acc: 0.9075 - val_loss: 9.6360 - val_acc: 0.2881\n",
            "Epoch 142/200\n",
            " - 87s - loss: 0.4409 - acc: 0.9142 - val_loss: 9.6201 - val_acc: 0.2945\n",
            "Epoch 143/200\n",
            " - 88s - loss: 0.5172 - acc: 0.9054 - val_loss: 9.5727 - val_acc: 0.2997\n",
            "Epoch 144/200\n",
            " - 88s - loss: 0.4585 - acc: 0.9129 - val_loss: 9.6762 - val_acc: 0.2880\n",
            "Epoch 145/200\n",
            " - 88s - loss: 0.5239 - acc: 0.9060 - val_loss: 9.6471 - val_acc: 0.2883\n",
            "Epoch 146/200\n",
            " - 88s - loss: 0.4620 - acc: 0.9125 - val_loss: 9.6813 - val_acc: 0.2932\n",
            "Epoch 147/200\n",
            " - 88s - loss: 0.4710 - acc: 0.9123 - val_loss: 9.7151 - val_acc: 0.2875\n",
            "Epoch 148/200\n",
            " - 87s - loss: 0.5036 - acc: 0.9089 - val_loss: 9.7850 - val_acc: 0.2939\n",
            "Epoch 149/200\n",
            " - 88s - loss: 0.5084 - acc: 0.9091 - val_loss: 9.7419 - val_acc: 0.2933\n",
            "Epoch 150/200\n",
            " - 87s - loss: 0.4605 - acc: 0.9152 - val_loss: 9.7469 - val_acc: 0.2960\n",
            "Epoch 151/200\n",
            " - 89s - loss: 0.4937 - acc: 0.9110 - val_loss: 9.8142 - val_acc: 0.2915\n",
            "Epoch 152/200\n",
            " - 87s - loss: 0.5128 - acc: 0.9107 - val_loss: 9.8635 - val_acc: 0.2874\n",
            "Epoch 153/200\n",
            " - 87s - loss: 0.4926 - acc: 0.9131 - val_loss: 9.9075 - val_acc: 0.2905\n",
            "Epoch 154/200\n",
            " - 88s - loss: 0.5004 - acc: 0.9109 - val_loss: 9.8519 - val_acc: 0.2911\n",
            "Epoch 155/200\n",
            " - 87s - loss: 0.5030 - acc: 0.9127 - val_loss: 9.8689 - val_acc: 0.2932\n",
            "Epoch 156/200\n",
            " - 87s - loss: 0.5196 - acc: 0.9091 - val_loss: 9.8988 - val_acc: 0.2890\n",
            "Epoch 157/200\n",
            " - 87s - loss: 0.5249 - acc: 0.9104 - val_loss: 9.9992 - val_acc: 0.2846\n",
            "Epoch 158/200\n",
            " - 88s - loss: 0.5141 - acc: 0.9119 - val_loss: 9.8924 - val_acc: 0.2925\n",
            "Epoch 159/200\n",
            " - 87s - loss: 0.5202 - acc: 0.9109 - val_loss: 9.9822 - val_acc: 0.2889\n",
            "Epoch 160/200\n",
            " - 88s - loss: 0.5301 - acc: 0.9091 - val_loss: 9.9546 - val_acc: 0.2924\n",
            "Epoch 161/200\n",
            " - 87s - loss: 0.4925 - acc: 0.9151 - val_loss: 10.0127 - val_acc: 0.2912\n",
            "Epoch 162/200\n",
            " - 88s - loss: 0.5304 - acc: 0.9112 - val_loss: 9.9634 - val_acc: 0.2915\n",
            "Epoch 163/200\n",
            " - 88s - loss: 0.5353 - acc: 0.9120 - val_loss: 9.9671 - val_acc: 0.2917\n",
            "Epoch 164/200\n",
            " - 87s - loss: 0.5848 - acc: 0.9078 - val_loss: 9.9812 - val_acc: 0.2915\n",
            "Epoch 165/200\n",
            " - 88s - loss: 0.5312 - acc: 0.9147 - val_loss: 10.0161 - val_acc: 0.2975\n",
            "Epoch 166/200\n",
            " - 87s - loss: 0.5506 - acc: 0.9119 - val_loss: 10.0555 - val_acc: 0.2860\n",
            "Epoch 167/200\n",
            " - 87s - loss: 0.5239 - acc: 0.9166 - val_loss: 10.0195 - val_acc: 0.2983\n",
            "Epoch 168/200\n",
            " - 87s - loss: 0.5598 - acc: 0.9121 - val_loss: 10.0654 - val_acc: 0.2921\n",
            "Epoch 169/200\n",
            " - 89s - loss: 0.5876 - acc: 0.9087 - val_loss: 10.0377 - val_acc: 0.2962\n",
            "Epoch 170/200\n",
            " - 88s - loss: 0.5828 - acc: 0.9082 - val_loss: 10.0373 - val_acc: 0.2985\n",
            "Epoch 171/200\n",
            " - 87s - loss: 0.5305 - acc: 0.9166 - val_loss: 10.0712 - val_acc: 0.2924\n",
            "Epoch 172/200\n",
            " - 87s - loss: 0.5776 - acc: 0.9131 - val_loss: 10.0403 - val_acc: 0.3002\n",
            "Epoch 173/200\n",
            " - 88s - loss: 0.5929 - acc: 0.9109 - val_loss: 10.0713 - val_acc: 0.2986\n",
            "Epoch 174/200\n",
            " - 87s - loss: 0.5911 - acc: 0.9112 - val_loss: 10.0996 - val_acc: 0.2959\n",
            "Epoch 175/200\n",
            " - 87s - loss: 0.5845 - acc: 0.9125 - val_loss: 10.2345 - val_acc: 0.2857\n",
            "Epoch 176/200\n",
            " - 87s - loss: 0.6021 - acc: 0.9114 - val_loss: 10.2335 - val_acc: 0.2915\n",
            "Epoch 177/200\n",
            " - 88s - loss: 0.6082 - acc: 0.9100 - val_loss: 10.2301 - val_acc: 0.2931\n",
            "Epoch 178/200\n",
            " - 87s - loss: 0.5915 - acc: 0.9142 - val_loss: 10.2086 - val_acc: 0.2935\n",
            "Epoch 179/200\n",
            " - 87s - loss: 0.6655 - acc: 0.9054 - val_loss: 10.2188 - val_acc: 0.2938\n",
            "Epoch 180/200\n",
            " - 88s - loss: 0.6354 - acc: 0.9093 - val_loss: 10.2487 - val_acc: 0.2879\n",
            "Epoch 181/200\n",
            " - 87s - loss: 0.6204 - acc: 0.9122 - val_loss: 10.2189 - val_acc: 0.2949\n",
            "Epoch 182/200\n",
            " - 87s - loss: 0.6167 - acc: 0.9116 - val_loss: 10.2748 - val_acc: 0.2853\n",
            "Epoch 183/200\n",
            " - 87s - loss: 0.6084 - acc: 0.9129 - val_loss: 10.2973 - val_acc: 0.2890\n",
            "Epoch 184/200\n",
            " - 88s - loss: 0.6504 - acc: 0.9096 - val_loss: 10.2899 - val_acc: 0.2871\n",
            "Epoch 185/200\n",
            " - 87s - loss: 0.6166 - acc: 0.9147 - val_loss: 10.3085 - val_acc: 0.2889\n",
            "Epoch 186/200\n",
            " - 87s - loss: 0.6566 - acc: 0.9096 - val_loss: 10.3474 - val_acc: 0.2869\n",
            "Epoch 187/200\n",
            " - 87s - loss: 0.6518 - acc: 0.9104 - val_loss: 10.3081 - val_acc: 0.2917\n",
            "Epoch 188/200\n",
            " - 88s - loss: 0.6755 - acc: 0.9095 - val_loss: 10.3642 - val_acc: 0.2884\n",
            "Epoch 189/200\n",
            " - 87s - loss: 0.6759 - acc: 0.9084 - val_loss: 10.3737 - val_acc: 0.2856\n",
            "Epoch 190/200\n",
            " - 87s - loss: 0.6722 - acc: 0.9087 - val_loss: 10.4916 - val_acc: 0.2822\n",
            "Epoch 191/200\n",
            " - 88s - loss: 0.6900 - acc: 0.9090 - val_loss: 10.4226 - val_acc: 0.2947\n",
            "Epoch 192/200\n",
            " - 87s - loss: 0.6697 - acc: 0.9115 - val_loss: 10.3748 - val_acc: 0.2959\n",
            "Epoch 193/200\n",
            " - 87s - loss: 0.6522 - acc: 0.9143 - val_loss: 10.4428 - val_acc: 0.2919\n",
            "Epoch 194/200\n",
            " - 87s - loss: 0.7121 - acc: 0.9073 - val_loss: 10.4219 - val_acc: 0.2923\n",
            "Epoch 195/200\n",
            " - 88s - loss: 0.6704 - acc: 0.9137 - val_loss: 10.4594 - val_acc: 0.2870\n",
            "Epoch 196/200\n",
            " - 87s - loss: 0.7263 - acc: 0.9078 - val_loss: 10.4601 - val_acc: 0.2916\n",
            "Epoch 197/200\n",
            " - 87s - loss: 0.7222 - acc: 0.9096 - val_loss: 10.5410 - val_acc: 0.2887\n",
            "Epoch 198/200\n",
            " - 88s - loss: 0.7331 - acc: 0.9090 - val_loss: 10.4619 - val_acc: 0.2901\n",
            "Epoch 199/200\n",
            " - 89s - loss: 0.7381 - acc: 0.9104 - val_loss: 10.4923 - val_acc: 0.2928\n",
            "Epoch 200/200\n",
            " - 87s - loss: 0.7715 - acc: 0.9066 - val_loss: 10.5331 - val_acc: 0.2900\n"
          ],
          "name": "stdout"
        }
      ]
    },
    {
      "cell_type": "markdown",
      "metadata": {
        "id": "Tn0ckip-oPPk",
        "colab_type": "text"
      },
      "source": [
        "# 4.Evaluation"
      ]
    },
    {
      "cell_type": "markdown",
      "metadata": {
        "id": "E_U-n2M6fCfo",
        "colab_type": "text"
      },
      "source": [
        "## 4.1. Training performance"
      ]
    },
    {
      "cell_type": "code",
      "metadata": {
        "id": "j7r5vcP2oKi5",
        "colab_type": "code",
        "colab": {
          "base_uri": "https://localhost:8080/",
          "height": 421
        },
        "outputId": "620bbe0e-aeeb-4669-dc19-3c181fddb9cf"
      },
      "source": [
        "# Print\n",
        "print('After {} epochs \\nTrain loss:\\t\\t{}\\nTrain accuracy:\\t\\t{}\\nValidation loss:\\t{}\\nValidation accuracy:\\t{}'.format(epochsN, history.history['loss'][-1], history.history['acc'][-1],history.history['val_loss'][-1],history.history['val_acc'][-1] ))\n",
        "\n",
        "# Plot the loss function and the evaluation metric over the course of training\n",
        "fig, ax = plt.subplots(1, 1, figsize=(10, 5))\n",
        "ax.plot(np.array(history.history['acc']), color='blue', label='training accuracy')\n",
        "ax.plot(np.array(history.history['loss']), color='red', label='training loss')\n",
        "ax.set_title('optimizer={}'.format('Adam'))\n",
        "ax.legend(loc='upper right')\n",
        "ax.minorticks_on(), ax.grid(which='both', linestyle='-.', linewidth=1)\n",
        "plt.show()\n",
        "\n",
        "# Save figure\n",
        "fig.savefig('Results/performance.png')\n"
      ],
      "execution_count": 17,
      "outputs": [
        {
          "output_type": "stream",
          "text": [
            "After 200 epochs \n",
            "Train loss:\t\t0.7715357698166384\n",
            "Train accuracy:\t\t0.9066249950528145\n",
            "Validation loss:\t10.533059918403625\n",
            "Validation accuracy:\t0.2900000020414591\n"
          ],
          "name": "stdout"
        },
        {
          "output_type": "display_data",
          "data": {
            "image/png": "[encoded data removed]",
            "text/plain": [
              "<Figure size 720x360 with 1 Axes>"
            ]
          },
          "metadata": {
            "tags": []
          }
        }
      ]
    },
    {
      "cell_type": "markdown",
      "metadata": {
        "id": "2xTH8Ci2fQI4",
        "colab_type": "text"
      },
      "source": [
        "## 4.2.Testing performance"
      ]
    },
    {
      "cell_type": "code",
      "metadata": {
        "id": "-K28GpneZB9S",
        "colab_type": "code",
        "colab": {
          "base_uri": "https://localhost:8080/",
          "height": 119
        },
        "outputId": "f50efcd9-df45-4678-a80e-6e3689dda758"
      },
      "source": [
        "# Evaluate the training and testing performance of your model \n",
        "score = classifier.evaluate(trainImages, trainLabels, verbose=2)\n",
        "print('Train loss:', score[0])\n",
        "print('Train accuracy:', score[1], '\\n\\n')\n",
        "\n",
        "score = classifier.evaluate(testImages, testLabels, verbose=2)\n",
        "print('Test loss:', score[0])\n",
        "print('Test accuracy:', score[1])"
      ],
      "execution_count": 18,
      "outputs": [
        {
          "output_type": "stream",
          "text": [
            "Train loss: 2.6316747434699\n",
            "Train accuracy: 0.79558 \n",
            "\n",
            "\n",
            "Test loss: 13.509920349121094\n",
            "Test accuracy: 0.1618\n"
          ],
          "name": "stdout"
        }
      ]
    },
    {
      "cell_type": "code",
      "metadata": {
        "id": "xOcWwxwaitn4",
        "colab_type": "code",
        "colab": {}
      },
      "source": [
        "#%load_ext tensorboard\n",
        "#%tensorboard --logdir logs"
      ],
      "execution_count": 0,
      "outputs": []
    },
    {
      "cell_type": "markdown",
      "metadata": {
        "id": "L4eZ9zuJZfe9",
        "colab_type": "text"
      },
      "source": [
        "# 5.Pickling and saving"
      ]
    },
    {
      "cell_type": "code",
      "metadata": {
        "id": "rSKlcaK5Zk8k",
        "colab_type": "code",
        "colab": {}
      },
      "source": [
        "# Pickle training and save \n",
        "with open(\"Results/training\", 'wb') as file_pi:\n",
        "  pickle.dump(history.history, file_pi)"
      ],
      "execution_count": 0,
      "outputs": []
    },
    {
      "cell_type": "markdown",
      "metadata": {
        "id": "wSfOu7l-f8G9",
        "colab_type": "text"
      },
      "source": [
        "# Report\n",
        "The current notebook suggests a CNN classifier for the CIFAR-100 dataset. The dataset comprises of 50000+10000 tiny images belonging to 100 classes which in turn are evenly categoried into to 20 super-classes.\n",
        "\n",
        "The classification problem of this dataset is challenging because the resolution of the images is rather low and the number of categories is large for the given number of labeled images which makes both the extraction and categorisation of the features challenging.\n",
        "\n",
        "Here I suggest a CNN comprising of 3 convolutional-maxpooling, 1 flattening and 2 fully connected layers including the output layer of 100 neurons which achieves image classificaiton into the 100 classes, thus also classification into the 20 superclasses. Direct classification into the 20 superclasses was even more challenging (performed several trials on this) due to the high intra-superclass variability of images. \n",
        "\n",
        "The proposed CNN achieves accuracy of xxx and loss function value of xx on the training dataset (after minor tuning of the hyperparameters). However, the corresponding values on the testing dataset are significantly lower which indicats possible overfitting. Tests with more layers resulted in divergence of the optimisation (training) even when different optimisers were tried (adam, sgd, mse). \n",
        "\n",
        "This CNN classifier can be used as a baseline for comparison with other NN.\n",
        "To avoid overfitting, I would next try a ResNet achitecture which allows the use of many layers controling at the same time the aggregation of errors that account for the gradient vanishing[3]. A list of suitable methods built around Resnet and other architectures are listed in [4]. To improve the training I would also employ data augmentation and fine tuning of the hyperparameters. \n",
        "\n",
        "\n",
        "\n",
        "\n",
        "\n",
        "\n",
        "\n",
        "\n"
      ]
    },
    {
      "cell_type": "markdown",
      "metadata": {
        "id": "ktQinrikuob5",
        "colab_type": "text"
      },
      "source": [
        "# Citations\n",
        "1. https://www.cs.toronto.edu/~kriz/cifar.html (dataset)\n",
        "2. https://www.tensorflow.org/tensorboard/graphs \n",
        "3. https://towardsdatascience.com/an-overview-of-resnet-and-its-variants-5281e2f56035\n",
        "4. https://paperswithcode.com/sota/image-classification-on-cifar-100"
      ]
    }
  ]
}