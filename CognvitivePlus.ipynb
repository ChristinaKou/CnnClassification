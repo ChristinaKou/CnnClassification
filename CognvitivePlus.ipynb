{
  "nbformat": 4,
  "nbformat_minor": 0,
  "metadata": {
    "colab": {
      "name": "CognvitivePlus",
      "provenance": [],
      "toc_visible": true,
      "authorship_tag": "ABX9TyNllMgBGvASND0KCQL+MvsW",
      "include_colab_link": true
    },
    "kernelspec": {
      "name": "python3",
      "display_name": "Python 3"
    }
  },
  "cells": [
    {
      "cell_type": "markdown",
      "metadata": {
        "id": "view-in-github",
        "colab_type": "text"
      },
      "source": [
        "<a href=\"https://colab.research.google.com/github/ChristinaKou/Congitive-/blob/Dataset/CognvitivePlus.ipynb\" target=\"_parent\"><img src=\"https://colab.research.google.com/assets/colab-badge.svg\" alt=\"Open In Colab\"/></a>"
      ]
    },
    {
      "cell_type": "markdown",
      "metadata": {
        "id": "Cf-ocpwAhsE5",
        "colab_type": "text"
      },
      "source": [
        "Import modules"
      ]
    },
    {
      "cell_type": "code",
      "metadata": {
        "id": "mFA6b9U7iOrq",
        "colab_type": "code",
        "colab": {}
      },
      "source": [
        "import os\n",
        "import numpy as np\n",
        "import pandas as pd\n",
        "import matplotlib.pylab as plt \n",
        "import tarfile\n",
        "\n",
        "from keras import layers\n"
      ],
      "execution_count": 0,
      "outputs": []
    },
    {
      "cell_type": "code",
      "metadata": {
        "id": "o764Sk5sUw9o",
        "colab_type": "code",
        "outputId": "18ad011a-d9d1-45df-a335-9e98564346a9",
        "colab": {
          "base_uri": "https://localhost:8080/",
          "height": 34
        }
      },
      "source": [
        "os.listdir()\n",
        "len([n_file for n_file in os.listdir() if not n_file.startswith('.')])"
      ],
      "execution_count": 0,
      "outputs": [
        {
          "output_type": "execute_result",
          "data": {
            "text/plain": [
              "0"
            ]
          },
          "metadata": {
            "tags": []
          },
          "execution_count": 9
        }
      ]
    },
    {
      "cell_type": "markdown",
      "metadata": {
        "id": "kLi3jxo8pzU1",
        "colab_type": "text"
      },
      "source": [
        "Initialisation"
      ]
    },
    {
      "cell_type": "code",
      "metadata": {
        "colab_type": "code",
        "outputId": "23e97856-3046-4ba3-e79f-95d2a1070f37",
        "id": "mpvqWAghIrQl",
        "colab": {
          "base_uri": "https://localhost:8080/",
          "height": 34
        }
      },
      "source": [
        "# Project directory\n",
        "workingDir = '/Cognitive'\n",
        "# Make a project folder if not existent\n",
        "if not os.path.exists(workingDir):\n",
        "    os.makedirs(workingDir)\n",
        "os.chdir(workingDir) # Cd to this foder \n",
        "print(\"The current workig directory is\",os.getcwd()[1:] )"
      ],
      "execution_count": 0,
      "outputs": [
        {
          "output_type": "stream",
          "text": [
            "The current workig directory is Cognitive\n"
          ],
          "name": "stdout"
        }
      ]
    },
    {
      "cell_type": "markdown",
      "metadata": {
        "id": "747HpAqlgCuX",
        "colab_type": "text"
      },
      "source": [
        "**Data Loading and preprocessing**\n",
        "\n"
      ]
    },
    {
      "cell_type": "markdown",
      "metadata": {
        "id": "hznt2MB-f0ag",
        "colab_type": "text"
      },
      "source": [
        "Download and decompress dataset"
      ]
    },
    {
      "cell_type": "code",
      "metadata": {
        "id": "J9rQQR8jf_ew",
        "colab_type": "code",
        "outputId": "b1b06f58-3fef-404d-d7a7-042e73e77d81",
        "colab": {
          "base_uri": "https://localhost:8080/",
          "height": 68
        }
      },
      "source": [
        "# Download dataset if not already downloaded\n",
        "if len([n_file for n_file in os.listdir() if not n_file.startswith('.')])==0: # Check for non hidden files\n",
        "  # Donwload \n",
        "  print(\"Downloading data ..\")\n",
        "  !wget -q --show-progress https://www.cs.toronto.edu/%7Ekriz/cifar-10-python.tar.gz\n",
        "  datasetFile = os.listdir()[-1]\n",
        "  print(\"Dataset\", datasetFile,  \"downloaded\" )\n",
        "else:\n",
        "  # Do not download\n",
        "  datasetFile = os.listdir()[-1]\n",
        "  print(\"Dataset\", datasetFile, \"already downloaded\" )\n"
      ],
      "execution_count": 0,
      "outputs": [
        {
          "output_type": "stream",
          "text": [
            "Downloading data ..\n",
            "cifar-10-python.tar 100%[===================>] 162.60M  30.4MB/s    in 5.9s    \n",
            "Dataset cifar-10-python.tar.gz downloaded\n"
          ],
          "name": "stdout"
        }
      ]
    },
    {
      "cell_type": "code",
      "metadata": {
        "id": "J1w3VR6wlt_R",
        "colab_type": "code",
        "colab": {}
      },
      "source": [
        "# Decompress dataset\n",
        "import tarfile\n",
        "if datasetFile.endswith(\"tar.gz\"):\n",
        "  print(\"Decompressing dataset..\")    \n",
        "  tar = tarfile.open(datasetFile, \"r:gz\")    \n",
        "  tar.extractall()\n",
        "  tar.close()\n",
        "  print(\"..into\", tar.name)\n",
        "  os.remove(tar.name) # delete compressed file\n"
      ],
      "execution_count": 0,
      "outputs": []
    },
    {
      "cell_type": "code",
      "metadata": {
        "id": "AnI18YNsMOEq",
        "colab_type": "code",
        "outputId": "9bcf5410-d096-4a65-d209-fb48a95a26a9",
        "colab": {
          "base_uri": "https://localhost:8080/",
          "height": 181
        }
      },
      "source": [
        "del(tar.name)\n",
        "tar.name"
      ],
      "execution_count": 0,
      "outputs": [
        {
          "output_type": "error",
          "ename": "AttributeError",
          "evalue": "ignored",
          "traceback": [
            "\u001b[0;31m---------------------------------------------------------------------------\u001b[0m",
            "\u001b[0;31mAttributeError\u001b[0m                            Traceback (most recent call last)",
            "\u001b[0;32m<ipython-input-220-d0c989a16f4b>\u001b[0m in \u001b[0;36m<module>\u001b[0;34m()\u001b[0m\n\u001b[0;32m----> 1\u001b[0;31m \u001b[0;32mdel\u001b[0m\u001b[0;34m(\u001b[0m\u001b[0mtar\u001b[0m\u001b[0;34m.\u001b[0m\u001b[0mname\u001b[0m\u001b[0;34m)\u001b[0m\u001b[0;34m\u001b[0m\u001b[0;34m\u001b[0m\u001b[0m\n\u001b[0m\u001b[1;32m      2\u001b[0m \u001b[0mtar\u001b[0m\u001b[0;34m.\u001b[0m\u001b[0mname\u001b[0m\u001b[0;34m\u001b[0m\u001b[0;34m\u001b[0m\u001b[0m\n",
            "\u001b[0;31mAttributeError\u001b[0m: name"
          ]
        }
      ]
    },
    {
      "cell_type": "code",
      "metadata": {
        "id": "-zn1EJcOUP3o",
        "colab_type": "code",
        "colab": {}
      },
      "source": [
        "os.remove(tar.name)"
      ],
      "execution_count": 0,
      "outputs": []
    },
    {
      "cell_type": "code",
      "metadata": {
        "id": "J9c20WgCSPlT",
        "colab_type": "code",
        "outputId": "db162717-a3a4-4015-a10a-f095fc9abf95",
        "colab": {
          "base_uri": "https://localhost:8080/",
          "height": 130
        }
      },
      "source": [
        "for tarinfo in tar:\n",
        "  print tarinfo.name()"
      ],
      "execution_count": 0,
      "outputs": [
        {
          "output_type": "error",
          "ename": "SyntaxError",
          "evalue": "ignored",
          "traceback": [
            "\u001b[0;36m  File \u001b[0;32m\"<ipython-input-209-1b9d716d5d54>\"\u001b[0;36m, line \u001b[0;32m2\u001b[0m\n\u001b[0;31m    print tarinfo.name()\u001b[0m\n\u001b[0m                ^\u001b[0m\n\u001b[0;31mSyntaxError\u001b[0m\u001b[0;31m:\u001b[0m invalid syntax\n"
          ]
        }
      ]
    },
    {
      "cell_type": "code",
      "metadata": {
        "id": "eqkU35pDy83V",
        "colab_type": "code",
        "outputId": "dc092d47-c1a0-4bb9-9ff6-a5b0d2c6fb05",
        "colab": {
          "base_uri": "https://localhost:8080/",
          "height": 34
        }
      },
      "source": [
        "os.listdir()"
      ],
      "execution_count": 0,
      "outputs": [
        {
          "output_type": "execute_result",
          "data": {
            "text/plain": [
              "['cifar-10-batches-py', '.ipynb_checkpoints']"
            ]
          },
          "metadata": {
            "tags": []
          },
          "execution_count": 227
        }
      ]
    },
    {
      "cell_type": "code",
      "metadata": {
        "id": "MvBSt42WPbCr",
        "colab_type": "code",
        "outputId": "6edc8db0-c369-45e8-e79d-40c03155cfcf",
        "colab": {
          "base_uri": "https://localhost:8080/",
          "height": 34
        }
      },
      "source": [
        "tar.gettarinfo"
      ],
      "execution_count": 0,
      "outputs": [
        {
          "output_type": "execute_result",
          "data": {
            "text/plain": [
              "<bound method TarFile.gettarinfo of <tarfile.TarFile object at 0x7fb5c93ba5c0>>"
            ]
          },
          "metadata": {
            "tags": []
          },
          "execution_count": 185
        }
      ]
    }
  ]
}