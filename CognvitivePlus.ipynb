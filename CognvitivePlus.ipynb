{
  "nbformat": 4,
  "nbformat_minor": 0,
  "metadata": {
    "colab": {
      "name": "CognvitivePlus",
      "provenance": [],
      "collapsed_sections": [],
      "toc_visible": true,
      "authorship_tag": "ABX9TyMnQHdQb0CY/T5FxdGSmqTm",
      "include_colab_link": true
    },
    "kernelspec": {
      "name": "python3",
      "display_name": "Python 3"
    }
  },
  "cells": [
    {
      "cell_type": "markdown",
      "metadata": {
        "id": "view-in-github",
        "colab_type": "text"
      },
      "source": [
        "<a href=\"https://colab.research.google.com/github/ChristinaKou/Congitive-/blob/Dataset/CognvitivePlus.ipynb\" target=\"_parent\"><img src=\"https://colab.research.google.com/assets/colab-badge.svg\" alt=\"Open In Colab\"/></a>"
      ]
    },
    {
      "cell_type": "markdown",
      "metadata": {
        "id": "UtEXc68KrYsU",
        "colab_type": "text"
      },
      "source": [
        "# **1. Initialisation and function definitions**"
      ]
    },
    {
      "cell_type": "markdown",
      "metadata": {
        "id": "UtEXc68KrYsU",
        "colab_type": "text"
      },
      "source": [
        "# **1. Initialisation and function definitions**"
      ]
    },
    {
      "cell_type": "markdown",
      "metadata": {
        "id": "Cf-ocpwAhsE5",
        "colab_type": "text"
      },
      "source": [
        "Import modules"
      ]
    },
    {
      "cell_type": "code",
      "metadata": {
        "id": "mFA6b9U7iOrq",
        "colab_type": "code",
        "colab": {
          "base_uri": "https://localhost:8080/",
          "height": 97
        },
        "outputId": "94237364-a558-46d8-8886-6640d8cb5d4e"
      },
      "source": [
        "import os\n",
        "import numpy as np\n",
        "import pandas as pd\n",
        "import matplotlib.pylab as plt \n",
        "import tarfile\n",
        "\n",
        "from keras import layers\n"
      ],
      "execution_count": 1,
      "outputs": [
        {
          "output_type": "stream",
          "text": [
            "Using TensorFlow backend.\n"
          ],
          "name": "stderr"
        },
        {
          "output_type": "display_data",
          "data": {
            "text/html": [
              "<p style=\"color: red;\">\n",
              "The default version of TensorFlow in Colab will soon switch to TensorFlow 2.x.<br>\n",
              "We recommend you <a href=\"https://www.tensorflow.org/guide/migrate\" target=\"_blank\">upgrade</a> now \n",
              "or ensure your notebook will continue to use TensorFlow 1.x via the <code>%tensorflow_version 1.x</code> magic:\n",
              "<a href=\"https://colab.research.google.com/notebooks/tensorflow_version.ipynb\" target=\"_blank\">more info</a>.</p>\n"
            ],
            "text/plain": [
              "<IPython.core.display.HTML object>"
            ]
          },
          "metadata": {
            "tags": []
          }
        }
      ]
    },
    {
      "cell_type": "markdown",
      "metadata": {
        "id": "kLi3jxo8pzU1",
        "colab_type": "text"
      },
      "source": [
        "Paths"
      ]
    },
    {
      "cell_type": "code",
      "metadata": {
        "colab_type": "code",
        "outputId": "f827985e-35d1-4886-aa47-b7322a355717",
        "id": "mpvqWAghIrQl",
        "colab": {
          "base_uri": "https://localhost:8080/",
          "height": 34
        }
      },
      "source": [
        "# Project directory\n",
        "workingDir = '/Cognitive'\n",
        "# Make a project folder if not existent\n",
        "if not os.path.exists(workingDir):\n",
        "    os.makedirs(workingDir)\n",
        "os.chdir(workingDir) # Cd to this foder \n",
        "print(\"The current workig directory is\",os.getcwd()[1:] )"
      ],
      "execution_count": 2,
      "outputs": [
        {
          "output_type": "stream",
          "text": [
            "The current workig directory is Cognitive\n"
          ],
          "name": "stdout"
        }
      ]
    },
    {
      "cell_type": "markdown",
      "metadata": {
        "id": "UPDOYlnMrs0c",
        "colab_type": "text"
      },
      "source": [
        "Functions"
      ]
    },
    {
      "cell_type": "code",
      "metadata": {
        "id": "8-k2OSBDjHP4",
        "colab_type": "code",
        "colab": {}
      },
      "source": [
        "# List non hidden files in current folder\n",
        "def nonHiddenfiles():\n",
        "  fileList = [n_file for n_file in os.listdir() if not n_file.startswith('.')] \n",
        "  return fileList"
      ],
      "execution_count": 0,
      "outputs": []
    },
    {
      "cell_type": "markdown",
      "metadata": {
        "id": "747HpAqlgCuX",
        "colab_type": "text"
      },
      "source": [
        "# **2. Data Loading and preprocessing**\n",
        "\n"
      ]
    },
    {
      "cell_type": "markdown",
      "metadata": {
        "id": "hznt2MB-f0ag",
        "colab_type": "text"
      },
      "source": [
        "## 2.1 Download and decompress dataset"
      ]
    },
    {
      "cell_type": "code",
      "metadata": {
        "id": "J9rQQR8jf_ew",
        "colab_type": "code",
        "outputId": "10b03fb6-94a5-4406-fd0f-477ffe35372d",
        "colab": {
          "base_uri": "https://localhost:8080/",
          "height": 68
        }
      },
      "source": [
        "# Download dataset if not already downloaded\n",
        "fileList = nonHiddenfiles()\n",
        "if len(fileList)==0: # Check for non hidden files\n",
        "  # Donwload \n",
        "  print(\"Downloading data ..\")\n",
        "  !wget -q --show-progress https://www.cs.toronto.edu/%7Ekriz/cifar-10-python.tar.gz\n",
        "  fileList = nonHiddenfiles()\n",
        "  print(\"Dataset\", fileList[-1],  \"downloaded\" )\n",
        "else:\n",
        "  # Do not download\n",
        "  print(\"Dataset\", fileList[-1], \"already downloaded\" )\n",
        "  fileList = nonHiddenfiles()"
      ],
      "execution_count": 73,
      "outputs": [
        {
          "output_type": "stream",
          "text": [
            "Downloading data ..\n",
            "cifar-10-python.tar 100%[===================>] 162.60M  31.4MB/s    in 5.8s    \n",
            "Dataset cifar-10-python.tar.gz downloaded\n"
          ],
          "name": "stdout"
        }
      ]
    },
    {
      "cell_type": "code",
      "metadata": {
        "id": "J1w3VR6wlt_R",
        "colab_type": "code",
        "outputId": "873b8353-8629-4c64-aa4d-b6375abe45da",
        "colab": {
          "base_uri": "https://localhost:8080/",
          "height": 34
        }
      },
      "source": [
        "# Decompress dataset\n",
        "fileList = nonHiddenfiles()\n",
        "datasetFile = fileList[-1]\n",
        "if datasetFile.endswith(\"tar.gz\"):\n",
        "  print(\"Decompressing dataset..\")    \n",
        "  tar = tarfile.open(datasetFile, \"r:gz\")    \n",
        "  tar.extractall()\n",
        "  tar.close()\n",
        "  print(\"..into\", tar.name)\n",
        "  os.remove(tar.name) # delete compressed file\n",
        "  fileList.remove(datasetFile)\n",
        "else:\n",
        "  print(\"Dataset uncompressed\") \n"
      ],
      "execution_count": 79,
      "outputs": [
        {
          "output_type": "stream",
          "text": [
            "Dataset uncompressed\n"
          ],
          "name": "stdout"
        }
      ]
    },
    {
      "cell_type": "markdown",
      "metadata": {
        "id": "wm9BUdfvudW0",
        "colab_type": "text"
      },
      "source": [
        "## 2.2 Explore dataset"
      ]
    },
    {
      "cell_type": "code",
      "metadata": {
        "id": "eqkU35pDy83V",
        "colab_type": "code",
        "outputId": "72f0a45b-85e2-4d8a-d39f-72aa25719338",
        "colab": {
          "base_uri": "https://localhost:8080/",
          "height": 153
        }
      },
      "source": [
        "# Look into the folder\n",
        "os.chdir(tar.members[0].name) \n",
        "# List non hidden content\n",
        "contentList = nonHiddenfiles()\n",
        "print(*contentList, sep = \"\\n\")"
      ],
      "execution_count": 124,
      "outputs": [
        {
          "output_type": "stream",
          "text": [
            "data_batch_5\n",
            "data_batch_2\n",
            "data_batch_1\n",
            "batches.meta\n",
            "test_batch\n",
            "readme.html\n",
            "data_batch_4\n",
            "data_batch_3\n"
          ],
          "name": "stdout"
        }
      ]
    },
    {
      "cell_type": "code",
      "metadata": {
        "id": "MvBSt42WPbCr",
        "colab_type": "code",
        "outputId": "7905e6be-2e5c-433b-ff66-4578465e25a3",
        "colab": {
          "base_uri": "https://localhost:8080/",
          "height": 34
        }
      },
      "source": [
        "cd .."
      ],
      "execution_count": 123,
      "outputs": [
        {
          "output_type": "stream",
          "text": [
            "/Cognitive\n"
          ],
          "name": "stdout"
        }
      ]
    }
  ]
}