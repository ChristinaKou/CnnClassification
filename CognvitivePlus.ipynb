{
  "nbformat": 4,
  "nbformat_minor": 0,
  "metadata": {
    "colab": {
      "name": "CognvitivePlus",
      "provenance": [],
      "collapsed_sections": [],
      "toc_visible": true,
      "authorship_tag": "ABX9TyPBJvSZoLvtX/C4fuoPlR0w",
      "include_colab_link": true
    },
    "kernelspec": {
      "name": "python3",
      "display_name": "Python 3"
    }
  },
  "cells": [
    {
      "cell_type": "markdown",
      "metadata": {
        "id": "view-in-github",
        "colab_type": "text"
      },
      "source": [
        "<a href=\"https://colab.research.google.com/github/ChristinaKou/Congitive-/blob/Dataset/CognvitivePlus.ipynb\" target=\"_parent\"><img src=\"https://colab.research.google.com/assets/colab-badge.svg\" alt=\"Open In Colab\"/></a>"
      ]
    },
    {
      "cell_type": "markdown",
      "metadata": {
        "id": "UtEXc68KrYsU",
        "colab_type": "text"
      },
      "source": [
        "# **1. Initialisation and function definitions**"
      ]
    },
    {
      "cell_type": "markdown",
      "metadata": {
        "id": "Cf-ocpwAhsE5",
        "colab_type": "text"
      },
      "source": [
        "Import modules"
      ]
    },
    {
      "cell_type": "code",
      "metadata": {
        "id": "mFA6b9U7iOrq",
        "colab_type": "code",
        "colab": {}
      },
      "source": [
        "import os\n",
        "import numpy as np\n",
        "import pandas as pd\n",
        "import matplotlib.pylab as plt \n",
        "import tarfile\n",
        "from random import randrange\n",
        "from keras import layers\n"
      ],
      "execution_count": 0,
      "outputs": []
    },
    {
      "cell_type": "markdown",
      "metadata": {
        "id": "kLi3jxo8pzU1",
        "colab_type": "text"
      },
      "source": [
        "Paths"
      ]
    },
    {
      "cell_type": "code",
      "metadata": {
        "colab_type": "code",
        "outputId": "7aa5a993-60c5-4f9e-d5a7-0c748436d5af",
        "id": "mpvqWAghIrQl",
        "colab": {
          "base_uri": "https://localhost:8080/",
          "height": 34
        }
      },
      "source": [
        "# Project directory\n",
        "workingDir = '/Cognitive'\n",
        "# Make a project folder if not existent\n",
        "if not os.path.exists(workingDir):\n",
        "    os.makedirs(workingDir)\n",
        "os.chdir(workingDir) # Cd to this foder \n",
        "print(\"The current workig directory is\",os.getcwd()[1:] )"
      ],
      "execution_count": 569,
      "outputs": [
        {
          "output_type": "stream",
          "text": [
            "The current workig directory is Cognitive\n"
          ],
          "name": "stdout"
        }
      ]
    },
    {
      "cell_type": "markdown",
      "metadata": {
        "id": "UPDOYlnMrs0c",
        "colab_type": "text"
      },
      "source": [
        "Functions"
      ]
    },
    {
      "cell_type": "code",
      "metadata": {
        "id": "8-k2OSBDjHP4",
        "colab_type": "code",
        "colab": {}
      },
      "source": [
        "# List non hidden files in current folder\n",
        "def nonHiddenfiles():\n",
        "  fileList = [n_file for n_file in os.listdir() if not n_file.startswith('.')] \n",
        "  return fileList\n",
        "\n",
        "# Unpickle file\n",
        "def unpickle(file):\n",
        "  import pickle\n",
        "  with open(file, 'rb') as fo:\n",
        "    dict = pickle.load(fo, encoding='bytes')\n",
        "  return dict\n"
      ],
      "execution_count": 0,
      "outputs": []
    },
    {
      "cell_type": "markdown",
      "metadata": {
        "id": "747HpAqlgCuX",
        "colab_type": "text"
      },
      "source": [
        "# **2. Data Loading and preprocessing**\n",
        "\n"
      ]
    },
    {
      "cell_type": "markdown",
      "metadata": {
        "id": "hznt2MB-f0ag",
        "colab_type": "text"
      },
      "source": [
        "## 2.1 Download and decompress dataset"
      ]
    },
    {
      "cell_type": "code",
      "metadata": {
        "id": "J9rQQR8jf_ew",
        "colab_type": "code",
        "outputId": "dcf68d44-7fd4-45fd-ff4c-90cce28883b8",
        "colab": {
          "base_uri": "https://localhost:8080/",
          "height": 34
        }
      },
      "source": [
        "# Download dataset if not already downloaded\n",
        "fileList = nonHiddenfiles()\n",
        "if len(fileList)==0: # Check for non hidden files\n",
        "  # Donwload \n",
        "  print(\"Downloading data ..\")\n",
        "  !wget -q --show-progress https://www.cs.toronto.edu/%7Ekriz/cifar-100-python.tar.gz\n",
        "  fileList = nonHiddenfiles()\n",
        "  print(\"Dataset\", fileList[-1],  \"downloaded\" )\n",
        "else:\n",
        "  # Do not download\n",
        "  print(\"Dataset\", fileList[-1], \"already downloaded\" )\n",
        "  fileList = nonHiddenfiles()"
      ],
      "execution_count": 571,
      "outputs": [
        {
          "output_type": "stream",
          "text": [
            "Dataset cifar-100-python already downloaded\n"
          ],
          "name": "stdout"
        }
      ]
    },
    {
      "cell_type": "code",
      "metadata": {
        "id": "J1w3VR6wlt_R",
        "colab_type": "code",
        "outputId": "0f2aea58-4d48-4b89-e4ba-e6c4c9d910fc",
        "colab": {
          "base_uri": "https://localhost:8080/",
          "height": 34
        }
      },
      "source": [
        "# Decompress dataset\n",
        "fileList = nonHiddenfiles()\n",
        "datasetFile = fileList[-1]\n",
        "if datasetFile.endswith(\"tar.gz\"):\n",
        "  print(\"Decompressing dataset..\")    \n",
        "  tar = tarfile.open(datasetFile, \"r:gz\")    \n",
        "  tar.extractall()\n",
        "  tar.close()\n",
        "  print(\"..into\", tar.name)\n",
        "  os.remove(tar.name) # delete compressed file\n",
        "  fileList.remove(datasetFile)\n",
        "else:\n",
        "  print(\"Dataset uncompressed\") \n"
      ],
      "execution_count": 572,
      "outputs": [
        {
          "output_type": "stream",
          "text": [
            "Dataset uncompressed\n"
          ],
          "name": "stdout"
        }
      ]
    },
    {
      "cell_type": "markdown",
      "metadata": {
        "id": "wm9BUdfvudW0",
        "colab_type": "text"
      },
      "source": [
        "## 2.2 Explore dataset"
      ]
    },
    {
      "cell_type": "code",
      "metadata": {
        "id": "eqkU35pDy83V",
        "colab_type": "code",
        "colab": {}
      },
      "source": [
        "# Look into the folder\n",
        "os.chdir(tar.members[0].name) \n",
        "# List non hidden content\n",
        "contentList = nonHiddenfiles()\n",
        "print(*contentList, sep = \"\\n\")\n",
        "%cd .."
      ],
      "execution_count": 0,
      "outputs": []
    },
    {
      "cell_type": "code",
      "metadata": {
        "id": "nxz2plQxzpkQ",
        "colab_type": "code",
        "colab": {}
      },
      "source": [
        "# Unpickle data \n",
        "os.chdir(tar.members[0].name)\n",
        "test = unpickle(contentList[0])\n",
        "meta = unpickle(contentList[1])\n",
        "train = unpickle(contentList[3])\n",
        "print(type(test), type(meta), type(train))\n",
        "%cd .."
      ],
      "execution_count": 0,
      "outputs": []
    },
    {
      "cell_type": "markdown",
      "metadata": {
        "id": "vhE3TZR4OjDc",
        "colab_type": "text"
      },
      "source": [
        "### Table of dataset summary "
      ]
    },
    {
      "cell_type": "code",
      "metadata": {
        "id": "m3J_gO9q5mb0",
        "colab_type": "code",
        "colab": {}
      },
      "source": [
        "print(\"\\tLABEL\",\"\\t\\t\\t\",\"LENGTH\\t\\t\", \"VALUE\")\n",
        "\n",
        "# expore meta dataset\n",
        "print(\"META\")\n",
        "for i in list(range(0,len(meta))):\n",
        "  print(list(meta.keys())[i],\"\\t\\t\",len(list(test.values())[i]),\"\\t\\t\",list(meta.values())[i]), print('\\n')\n",
        "\n",
        "# expore train dataset\n",
        "print(\"TRAIN\")\n",
        "for i in list(range(0,len(train))):\n",
        "  print(list(train.keys())[i],\"      \\t\\t\",len(list(train.values())[i]),\"\\t\\t\",list(train.values())[i]), print('\\n')\n",
        "\n",
        "# expore test dataset\n",
        "print(\"TEST\")\n",
        "for i in list(range(0,len(test))):\n",
        "  print(list(test.keys())[i],\":          \\t\",len(list(test.values())[i]),\"\\t\\t\", list(test.values())[i]), print('\\n')\n"
      ],
      "execution_count": 0,
      "outputs": []
    },
    {
      "cell_type": "markdown",
      "metadata": {
        "id": "hd8bvsPzOFZS",
        "colab_type": "text"
      },
      "source": [
        "### Image examples"
      ]
    },
    {
      "cell_type": "code",
      "metadata": {
        "id": "mSSt_1wBFQ1Q",
        "colab_type": "code",
        "colab": {}
      },
      "source": [
        "# type and shape of image data\n",
        "print(type(train[b'data']),train[b'data'].shape)\n"
      ],
      "execution_count": 0,
      "outputs": []
    },
    {
      "cell_type": "code",
      "metadata": {
        "id": "zi2y69cWVifJ",
        "colab_type": "code",
        "colab": {
          "base_uri": "https://localhost:8080/",
          "height": 34
        },
        "outputId": "0279b6af-5ee4-4ef1-df1c-eb914eb93832"
      },
      "source": [
        "# reshape dataset\n",
        "trainImages = train[b'data'].reshape(50000,3,32,32).transpose(2,3,1,0);\n",
        "trainImages.shape"
      ],
      "execution_count": 676,
      "outputs": [
        {
          "output_type": "execute_result",
          "data": {
            "text/plain": [
              "(32, 32, 3, 50000)"
            ]
          },
          "metadata": {
            "tags": []
          },
          "execution_count": 676
        }
      ]
    },
    {
      "cell_type": "code",
      "metadata": {
        "id": "OtCT5akMQ6fo",
        "colab_type": "code",
        "colab": {
          "base_uri": "https://localhost:8080/",
          "height": 281
        },
        "outputId": "5c37f1c2-aac9-4e3f-f5d7-fdcff376982a"
      },
      "source": [
        "# Show random image examples with their filename, coarse category and fine category\n",
        "%matplotlib inline\n",
        "thisImage=randrange(len(train[b'filenames']));\n",
        "plt.imshow(trainImages[:,:,:,thisImage].squeeze());\n",
        "plt.title([train[b'filenames'][thisImage], meta[b'fine_label_names'][train[b'fine_labels'][thisImage]],meta[b'coarse_label_names'][train[b'coarse_labels'][thisImage]]] );\n"
      ],
      "execution_count": 688,
      "outputs": [
        {
          "output_type": "display_data",
          "data": {
            "image/png": "[encoded data removed]",
            "text/plain": [
              "<Figure size 432x288 with 1 Axes>"
            ]
          },
          "metadata": {
            "tags": []
          }
        }
      ]
    }
  ]
}